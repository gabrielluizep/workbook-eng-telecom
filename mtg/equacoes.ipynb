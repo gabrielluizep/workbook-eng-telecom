{
 "cells": [
  {
   "cell_type": "code",
   "execution_count": 29,
   "metadata": {},
   "outputs": [],
   "source": [
    "import sympy as sy\n",
    "\n",
    "a, b, sigma_c, sigma_d, f, mu_r, mu_0, epsilon_r, epsilon_0 = sy.symbols(\n",
    "    \"a, b, sigma_c, sigma_d, f, mu_r, mu_0, epsilon_r, epsilon_0\"\n",
    ")"
   ]
  },
  {
   "cell_type": "code",
   "execution_count": 30,
   "metadata": {},
   "outputs": [
    {
     "data": {
      "text/latex": [
       "$\\displaystyle \\frac{\\sqrt{\\frac{f \\mu_{0} \\mu_{r}}{\\sigma_{c}}} \\left(\\frac{1}{b} + \\frac{1}{a}\\right)}{2 \\sqrt{\\pi}}$"
      ],
      "text/plain": [
       "sqrt(f*mu_0*mu_r/sigma_c)*(1/b + 1/a)/(2*sqrt(pi))"
      ]
     },
     "execution_count": 30,
     "metadata": {},
     "output_type": "execute_result"
    }
   ],
   "source": [
    "r_form = (\n",
    "    (1 / (2 * sy.pi)) * (1 / a + 1 / b) * sy.sqrt(sy.pi * f * (mu_0 * mu_r) / sigma_c)\n",
    ")\n",
    "\n",
    "r_form"
   ]
  },
  {
   "cell_type": "code",
   "execution_count": 31,
   "metadata": {},
   "outputs": [
    {
     "data": {
      "text/latex": [
       "$\\displaystyle \\frac{\\mu_{0} \\mu_{r} \\log{\\left(\\frac{b}{a} \\right)}}{2 \\pi}$"
      ],
      "text/plain": [
       "mu_0*mu_r*log(b/a)/(2*pi)"
      ]
     },
     "execution_count": 31,
     "metadata": {},
     "output_type": "execute_result"
    }
   ],
   "source": [
    "l_form = (mu_0 * mu_r) / (2 * sy.pi) * sy.log(b / a)\n",
    "\n",
    "l_form"
   ]
  },
  {
   "cell_type": "code",
   "execution_count": 32,
   "metadata": {},
   "outputs": [
    {
     "data": {
      "text/latex": [
       "$\\displaystyle \\frac{2 \\pi \\epsilon_{0} \\epsilon_{r}}{\\log{\\left(\\frac{b}{a} \\right)}}$"
      ],
      "text/plain": [
       "2*pi*epsilon_0*epsilon_r/log(b/a)"
      ]
     },
     "execution_count": 32,
     "metadata": {},
     "output_type": "execute_result"
    }
   ],
   "source": [
    "c_form = (2 * sy.pi * epsilon_0 * epsilon_r) / sy.log(b / a)\n",
    "\n",
    "c_form"
   ]
  },
  {
   "cell_type": "code",
   "execution_count": 33,
   "metadata": {},
   "outputs": [
    {
     "data": {
      "text/latex": [
       "$\\displaystyle \\frac{2 \\pi \\sigma_{d}}{\\log{\\left(\\frac{b}{a} \\right)}}$"
      ],
      "text/plain": [
       "2*pi*sigma_d/log(b/a)"
      ]
     },
     "execution_count": 33,
     "metadata": {},
     "output_type": "execute_result"
    }
   ],
   "source": [
    "g_form = (2 * sy.pi * sigma_d) / sy.log(b / a)\n",
    "\n",
    "g_form"
   ]
  },
  {
   "cell_type": "code",
   "execution_count": 34,
   "metadata": {},
   "outputs": [
    {
     "name": "stdout",
     "output_type": "stream",
     "text": [
      "\n",
      "    R' = 3.81e+00 \\Omega/m\n",
      "    L' = 2.37e-07 H/m\n",
      "    C' = 1.06e-10 F/m\n",
      "    G' = 0.00e+00 S/m\n",
      "    \n"
     ]
    }
   ],
   "source": [
    "values = {\n",
    "    a: 0.45e-3,\n",
    "    b: 1.47e-3,\n",
    "    f: 1e9,\n",
    "    mu_r: 1,\n",
    "    mu_0: 4 * sy.pi * 1e-7,\n",
    "    epsilon_r: 2.26,\n",
    "    epsilon_0: 8.85e-12,\n",
    "    sigma_c: 5.8e7,\n",
    "    sigma_d: 0,\n",
    "}\n",
    "\n",
    "print(\n",
    "    f\"\"\"\n",
    "    R' = {float(r_form.subs(values)):.2e} \\Omega/m\n",
    "    L' = {float(l_form.subs(values)):.2e} H/m\n",
    "    C' = {float(c_form.subs(values)):.2e} F/m\n",
    "    G' = {float(g_form.subs(values)):.2e} S/m\n",
    "    \"\"\"\n",
    ")"
   ]
  },
  {
   "cell_type": "code",
   "execution_count": 35,
   "metadata": {},
   "outputs": [
    {
     "name": "stdout",
     "output_type": "stream",
     "text": [
      "\n",
      "    R' = 3.32e+00 \\Omega/m\n",
      "    L' = 2.23e-07 H/m\n",
      "    C' = 1.13e-10 F/m\n",
      "    G' = 5.63e-15 S/m\n",
      "    \n"
     ]
    }
   ],
   "source": [
    "values = {\n",
    "    a: 0.47e-3,\n",
    "    b: 1.435e-3,\n",
    "    f: 800e6,\n",
    "    mu_r: 1,\n",
    "    mu_0: 4 * sy.pi * 1e-7,\n",
    "    epsilon_r: 2.26,\n",
    "    epsilon_0: 8.85e-12,\n",
    "    sigma_c: 5.8e7,\n",
    "    sigma_d: 10e-16,\n",
    "}\n",
    "\n",
    "print(\n",
    "    f\"\"\"\n",
    "    R' = {float(r_form.subs(values)):.2e} \\Omega/m\n",
    "    L' = {float(l_form.subs(values)):.2e} H/m\n",
    "    C' = {float(c_form.subs(values)):.2e} F/m\n",
    "    G' = {float(g_form.subs(values)):.2e} S/m\n",
    "    \"\"\"\n",
    ")"
   ]
  },
  {
   "cell_type": "code",
   "execution_count": 36,
   "metadata": {},
   "outputs": [
    {
     "name": "stdout",
     "output_type": "stream",
     "text": [
      "\n",
      "    R' = 3.32e+00 \\Omega/m\n",
      "    L' = 2.23e-07 H/m\n",
      "    C' = 1.13e-10 F/m\n",
      "    G' = 5.63e-15 S/m\n",
      "    \n"
     ]
    }
   ],
   "source": [
    "values = {\n",
    "    a: 0.47e-3,\n",
    "    b: 1.435e-3,\n",
    "    f: 800e6,\n",
    "    mu_r: 1,\n",
    "    mu_0: 4 * sy.pi * 1e-7,\n",
    "    epsilon_r: 2.26,\n",
    "    epsilon_0: 8.85e-12,\n",
    "    sigma_c: 5.8e7,\n",
    "    sigma_d: 10e-16,\n",
    "}\n",
    "\n",
    "print(\n",
    "    f\"\"\"\n",
    "    R' = {float(r_form.subs(values)):.2e} \\Omega/m\n",
    "    L' = {float(l_form.subs(values)):.2e} H/m\n",
    "    C' = {float(c_form.subs(values)):.2e} F/m\n",
    "    G' = {float(g_form.subs(values)):.2e} S/m\n",
    "    \"\"\"\n",
    ")"
   ]
  },
  {
   "cell_type": "code",
   "execution_count": 39,
   "metadata": {},
   "outputs": [
    {
     "data": {
      "text/latex": [
       "$\\displaystyle \\sqrt{\\left(2 i \\pi c f + g\\right) \\left(2 i \\pi f l + r\\right)}$"
      ],
      "text/plain": [
       "sqrt((2*I*pi*c*f + g)*(2*I*pi*f*l + r))"
      ]
     },
     "execution_count": 39,
     "metadata": {},
     "output_type": "execute_result"
    }
   ],
   "source": [
    "r, l, c, g = sy.symbols(\"r, l, c, g\")\n",
    "\n",
    "gamma = sy.sqrt((r + sy.I * 2 * sy.pi * f * l) * (g + sy.I * 2 * sy.pi * f * c))\n",
    "\n",
    "gamma"
   ]
  },
  {
   "cell_type": "code",
   "execution_count": 42,
   "metadata": {},
   "outputs": [
    {
     "name": "stdout",
     "output_type": "stream",
     "text": [
      "\n",
      "    gamma = (0.041+32j) Np/m\n",
      "    \n"
     ]
    }
   ],
   "source": [
    "values = {\n",
    "    r: 3.8,\n",
    "    l: 240e-9,\n",
    "    c: 110e-12,\n",
    "    g: 0,\n",
    "    f: 1e9,\n",
    "}\n",
    "\n",
    "print(\n",
    "    f\"\"\"\n",
    "    gamma = {complex(gamma.subs(values)):.2} Np/m\n",
    "    \"\"\"\n",
    ")"
   ]
  }
 ],
 "metadata": {
  "kernelspec": {
   "display_name": "eng",
   "language": "python",
   "name": "python3"
  },
  "language_info": {
   "codemirror_mode": {
    "name": "ipython",
    "version": 3
   },
   "file_extension": ".py",
   "mimetype": "text/x-python",
   "name": "python",
   "nbconvert_exporter": "python",
   "pygments_lexer": "ipython3",
   "version": "3.9.18"
  }
 },
 "nbformat": 4,
 "nbformat_minor": 2
}
