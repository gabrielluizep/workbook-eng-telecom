{
 "cells": [
  {
   "cell_type": "markdown",
   "metadata": {},
   "source": [
    "Considere o **código de Hamming estendido (8, 4)**, obtido a partir do código de Hamming (7, 4) adicionando um \"bit de paridade global\" no final de cada palavra de código. (Dessa forma, todas as palavras-código terão um número par de bits 1.)\n",
    "\n",
    "(a) Determine a matriz geradora $G$ para o código."
   ]
  },
  {
   "cell_type": "code",
   "execution_count": 8,
   "metadata": {},
   "outputs": [
    {
     "data": {
      "image/png": "[encoded data removed]",
      "text/latex": [
       "$\\displaystyle \\left[\\begin{matrix}1 & 0 & 0 & 0 & 1 & 1 & 0 & 1\\\\0 & 1 & 0 & 0 & 1 & 0 & 1 & 1\\\\0 & 0 & 1 & 0 & 0 & 1 & 1 & 1\\\\0 & 0 & 0 & 1 & 1 & 1 & 1 & 0\\end{matrix}\\right]$"
      ],
      "text/plain": [
       "⎡1  0  0  0  1  1  0  1⎤\n",
       "⎢                      ⎥\n",
       "⎢0  1  0  0  1  0  1  1⎥\n",
       "⎢                      ⎥\n",
       "⎢0  0  1  0  0  1  1  1⎥\n",
       "⎢                      ⎥\n",
       "⎣0  0  0  1  1  1  1  0⎦"
      ]
     },
     "metadata": {},
     "output_type": "display_data"
    }
   ],
   "source": [
    "import numpy as np\n",
    "import itertools as it\n",
    "import pandas as pd\n",
    "from sympy import Matrix, init_printing\n",
    "\n",
    "init_printing()\n",
    "\n",
    "n = 8\n",
    "k = 4\n",
    "m = n - k\n",
    "\n",
    "G = np.array(\n",
    "    [\n",
    "        [1, 0, 0, 0, 1, 1, 0, 1],\n",
    "        [0, 1, 0, 0, 1, 0, 1, 1],\n",
    "        [0, 0, 1, 0, 0, 1, 1, 1],\n",
    "        [0, 0, 0, 1, 1, 1, 1, 0],\n",
    "    ]\n",
    ")\n",
    "\n",
    "display(Matrix(G))"
   ]
  },
  {
   "cell_type": "markdown",
   "metadata": {},
   "source": [
    "(b) Construa uma tabela mensagem $\\rightarrow$ palavra-código "
   ]
  },
  {
   "cell_type": "code",
   "execution_count": 9,
   "metadata": {},
   "outputs": [
    {
     "data": {
      "text/html": [
       "<div>\n",
       "<style scoped>\n",
       "    .dataframe tbody tr th:only-of-type {\n",
       "        vertical-align: middle;\n",
       "    }\n",
       "\n",
       "    .dataframe tbody tr th {\n",
       "        vertical-align: top;\n",
       "    }\n",
       "\n",
       "    .dataframe thead th {\n",
       "        text-align: right;\n",
       "    }\n",
       "</style>\n",
       "<table border=\"1\" class=\"dataframe\">\n",
       "  <thead>\n",
       "    <tr style=\"text-align: right;\">\n",
       "      <th></th>\n",
       "      <th>v</th>\n",
       "    </tr>\n",
       "    <tr>\n",
       "      <th>u</th>\n",
       "      <th></th>\n",
       "    </tr>\n",
       "  </thead>\n",
       "  <tbody>\n",
       "    <tr>\n",
       "      <th>[0, 0, 0, 0]</th>\n",
       "      <td>[0, 0, 0, 0, 0, 0, 0, 0]</td>\n",
       "    </tr>\n",
       "    <tr>\n",
       "      <th>[0, 0, 0, 1]</th>\n",
       "      <td>[0, 0, 0, 1, 1, 1, 1, 0]</td>\n",
       "    </tr>\n",
       "    <tr>\n",
       "      <th>[0, 0, 1, 0]</th>\n",
       "      <td>[0, 0, 1, 0, 0, 1, 1, 1]</td>\n",
       "    </tr>\n",
       "    <tr>\n",
       "      <th>[0, 0, 1, 1]</th>\n",
       "      <td>[0, 0, 1, 1, 1, 0, 0, 1]</td>\n",
       "    </tr>\n",
       "    <tr>\n",
       "      <th>[0, 1, 0, 0]</th>\n",
       "      <td>[0, 1, 0, 0, 1, 0, 1, 1]</td>\n",
       "    </tr>\n",
       "    <tr>\n",
       "      <th>[0, 1, 0, 1]</th>\n",
       "      <td>[0, 1, 0, 1, 0, 1, 0, 1]</td>\n",
       "    </tr>\n",
       "    <tr>\n",
       "      <th>[0, 1, 1, 0]</th>\n",
       "      <td>[0, 1, 1, 0, 1, 1, 0, 0]</td>\n",
       "    </tr>\n",
       "    <tr>\n",
       "      <th>[0, 1, 1, 1]</th>\n",
       "      <td>[0, 1, 1, 1, 0, 0, 1, 0]</td>\n",
       "    </tr>\n",
       "    <tr>\n",
       "      <th>[1, 0, 0, 0]</th>\n",
       "      <td>[1, 0, 0, 0, 1, 1, 0, 1]</td>\n",
       "    </tr>\n",
       "    <tr>\n",
       "      <th>[1, 0, 0, 1]</th>\n",
       "      <td>[1, 0, 0, 1, 0, 0, 1, 1]</td>\n",
       "    </tr>\n",
       "    <tr>\n",
       "      <th>[1, 0, 1, 0]</th>\n",
       "      <td>[1, 0, 1, 0, 1, 0, 1, 0]</td>\n",
       "    </tr>\n",
       "    <tr>\n",
       "      <th>[1, 0, 1, 1]</th>\n",
       "      <td>[1, 0, 1, 1, 0, 1, 0, 0]</td>\n",
       "    </tr>\n",
       "    <tr>\n",
       "      <th>[1, 1, 0, 0]</th>\n",
       "      <td>[1, 1, 0, 0, 0, 1, 1, 0]</td>\n",
       "    </tr>\n",
       "    <tr>\n",
       "      <th>[1, 1, 0, 1]</th>\n",
       "      <td>[1, 1, 0, 1, 1, 0, 0, 0]</td>\n",
       "    </tr>\n",
       "    <tr>\n",
       "      <th>[1, 1, 1, 0]</th>\n",
       "      <td>[1, 1, 1, 0, 0, 0, 0, 1]</td>\n",
       "    </tr>\n",
       "    <tr>\n",
       "      <th>[1, 1, 1, 1]</th>\n",
       "      <td>[1, 1, 1, 1, 1, 1, 1, 1]</td>\n",
       "    </tr>\n",
       "  </tbody>\n",
       "</table>\n",
       "</div>"
      ],
      "text/plain": [
       "                                     v\n",
       "u                                     \n",
       "[0, 0, 0, 0]  [0, 0, 0, 0, 0, 0, 0, 0]\n",
       "[0, 0, 0, 1]  [0, 0, 0, 1, 1, 1, 1, 0]\n",
       "[0, 0, 1, 0]  [0, 0, 1, 0, 0, 1, 1, 1]\n",
       "[0, 0, 1, 1]  [0, 0, 1, 1, 1, 0, 0, 1]\n",
       "[0, 1, 0, 0]  [0, 1, 0, 0, 1, 0, 1, 1]\n",
       "[0, 1, 0, 1]  [0, 1, 0, 1, 0, 1, 0, 1]\n",
       "[0, 1, 1, 0]  [0, 1, 1, 0, 1, 1, 0, 0]\n",
       "[0, 1, 1, 1]  [0, 1, 1, 1, 0, 0, 1, 0]\n",
       "[1, 0, 0, 0]  [1, 0, 0, 0, 1, 1, 0, 1]\n",
       "[1, 0, 0, 1]  [1, 0, 0, 1, 0, 0, 1, 1]\n",
       "[1, 0, 1, 0]  [1, 0, 1, 0, 1, 0, 1, 0]\n",
       "[1, 0, 1, 1]  [1, 0, 1, 1, 0, 1, 0, 0]\n",
       "[1, 1, 0, 0]  [1, 1, 0, 0, 0, 1, 1, 0]\n",
       "[1, 1, 0, 1]  [1, 1, 0, 1, 1, 0, 0, 0]\n",
       "[1, 1, 1, 0]  [1, 1, 1, 0, 0, 0, 0, 1]\n",
       "[1, 1, 1, 1]  [1, 1, 1, 1, 1, 1, 1, 1]"
      ]
     },
     "execution_count": 9,
     "metadata": {},
     "output_type": "execute_result"
    }
   ],
   "source": [
    "u = np.array(list(it.product([0, 1], repeat=k)))\n",
    "v = (u @ G) % 2\n",
    "\n",
    "df = pd.DataFrame(columns=[\"u\", \"v\"])\n",
    "\n",
    "# df[\"u\"] = [\"\".join(map(str, x)) for x in u]\n",
    "# df[\"v\"] = [\"\".join(map(str, x)) for x in v]\n",
    "df[\"u\"] = u.tolist()\n",
    "df[\"v\"] = v.tolist()\n",
    "df = df.set_index(\"u\")\n",
    "\n",
    "df"
   ]
  },
  {
   "cell_type": "markdown",
   "metadata": {},
   "source": [
    "Determine a distância mínima e a distribuição de peso das palavras-código"
   ]
  },
  {
   "cell_type": "code",
   "execution_count": 10,
   "metadata": {},
   "outputs": [
    {
     "data": {
      "text/plain": [
       "hamm_weight\n",
       "0     1\n",
       "4    14\n",
       "8     1\n",
       "Name: count, dtype: int64"
      ]
     },
     "metadata": {},
     "output_type": "display_data"
    },
    {
     "name": "stdout",
     "output_type": "stream",
     "text": [
      "d_min = 4\n"
     ]
    }
   ],
   "source": [
    "df[\"hamm_weight\"] = df[\"v\"].apply(lambda x: sum(x))\n",
    "\n",
    "display(df[\"hamm_weight\"].value_counts().sort_index())\n",
    "\n",
    "d_min = df[\"hamm_weight\"].sort_values()[1:].min()\n",
    "print(f\"d_min = {d_min}\")"
   ]
  },
  {
   "cell_type": "markdown",
   "metadata": {},
   "source": [
    "Determine a matriz de verificação $H$ para o código."
   ]
  },
  {
   "cell_type": "code",
   "execution_count": 11,
   "metadata": {},
   "outputs": [
    {
     "data": {
      "text/html": [
       "<div>\n",
       "<style scoped>\n",
       "    .dataframe tbody tr th:only-of-type {\n",
       "        vertical-align: middle;\n",
       "    }\n",
       "\n",
       "    .dataframe tbody tr th {\n",
       "        vertical-align: top;\n",
       "    }\n",
       "\n",
       "    .dataframe thead th {\n",
       "        text-align: right;\n",
       "    }\n",
       "</style>\n",
       "<table border=\"1\" class=\"dataframe\">\n",
       "  <thead>\n",
       "    <tr style=\"text-align: right;\">\n",
       "      <th></th>\n",
       "      <th>v</th>\n",
       "      <th>hamm_weight</th>\n",
       "      <th>validated</th>\n",
       "    </tr>\n",
       "    <tr>\n",
       "      <th>u</th>\n",
       "      <th></th>\n",
       "      <th></th>\n",
       "      <th></th>\n",
       "    </tr>\n",
       "  </thead>\n",
       "  <tbody>\n",
       "    <tr>\n",
       "      <th>[0, 0, 0, 0]</th>\n",
       "      <td>[0, 0, 0, 0, 0, 0, 0, 0]</td>\n",
       "      <td>0</td>\n",
       "      <td>[0, 0, 0, 0]</td>\n",
       "    </tr>\n",
       "    <tr>\n",
       "      <th>[0, 0, 0, 1]</th>\n",
       "      <td>[0, 0, 0, 1, 1, 1, 1, 0]</td>\n",
       "      <td>4</td>\n",
       "      <td>[0, 0, 0, 0]</td>\n",
       "    </tr>\n",
       "    <tr>\n",
       "      <th>[0, 0, 1, 0]</th>\n",
       "      <td>[0, 0, 1, 0, 0, 1, 1, 1]</td>\n",
       "      <td>4</td>\n",
       "      <td>[0, 0, 0, 0]</td>\n",
       "    </tr>\n",
       "    <tr>\n",
       "      <th>[0, 0, 1, 1]</th>\n",
       "      <td>[0, 0, 1, 1, 1, 0, 0, 1]</td>\n",
       "      <td>4</td>\n",
       "      <td>[0, 0, 0, 0]</td>\n",
       "    </tr>\n",
       "    <tr>\n",
       "      <th>[0, 1, 0, 0]</th>\n",
       "      <td>[0, 1, 0, 0, 1, 0, 1, 1]</td>\n",
       "      <td>4</td>\n",
       "      <td>[0, 0, 0, 0]</td>\n",
       "    </tr>\n",
       "    <tr>\n",
       "      <th>[0, 1, 0, 1]</th>\n",
       "      <td>[0, 1, 0, 1, 0, 1, 0, 1]</td>\n",
       "      <td>4</td>\n",
       "      <td>[0, 0, 0, 0]</td>\n",
       "    </tr>\n",
       "    <tr>\n",
       "      <th>[0, 1, 1, 0]</th>\n",
       "      <td>[0, 1, 1, 0, 1, 1, 0, 0]</td>\n",
       "      <td>4</td>\n",
       "      <td>[0, 0, 0, 0]</td>\n",
       "    </tr>\n",
       "    <tr>\n",
       "      <th>[0, 1, 1, 1]</th>\n",
       "      <td>[0, 1, 1, 1, 0, 0, 1, 0]</td>\n",
       "      <td>4</td>\n",
       "      <td>[0, 0, 0, 0]</td>\n",
       "    </tr>\n",
       "    <tr>\n",
       "      <th>[1, 0, 0, 0]</th>\n",
       "      <td>[1, 0, 0, 0, 1, 1, 0, 1]</td>\n",
       "      <td>4</td>\n",
       "      <td>[0, 0, 0, 0]</td>\n",
       "    </tr>\n",
       "    <tr>\n",
       "      <th>[1, 0, 0, 1]</th>\n",
       "      <td>[1, 0, 0, 1, 0, 0, 1, 1]</td>\n",
       "      <td>4</td>\n",
       "      <td>[0, 0, 0, 0]</td>\n",
       "    </tr>\n",
       "    <tr>\n",
       "      <th>[1, 0, 1, 0]</th>\n",
       "      <td>[1, 0, 1, 0, 1, 0, 1, 0]</td>\n",
       "      <td>4</td>\n",
       "      <td>[0, 0, 0, 0]</td>\n",
       "    </tr>\n",
       "    <tr>\n",
       "      <th>[1, 0, 1, 1]</th>\n",
       "      <td>[1, 0, 1, 1, 0, 1, 0, 0]</td>\n",
       "      <td>4</td>\n",
       "      <td>[0, 0, 0, 0]</td>\n",
       "    </tr>\n",
       "    <tr>\n",
       "      <th>[1, 1, 0, 0]</th>\n",
       "      <td>[1, 1, 0, 0, 0, 1, 1, 0]</td>\n",
       "      <td>4</td>\n",
       "      <td>[0, 0, 0, 0]</td>\n",
       "    </tr>\n",
       "    <tr>\n",
       "      <th>[1, 1, 0, 1]</th>\n",
       "      <td>[1, 1, 0, 1, 1, 0, 0, 0]</td>\n",
       "      <td>4</td>\n",
       "      <td>[0, 0, 0, 0]</td>\n",
       "    </tr>\n",
       "    <tr>\n",
       "      <th>[1, 1, 1, 0]</th>\n",
       "      <td>[1, 1, 1, 0, 0, 0, 0, 1]</td>\n",
       "      <td>4</td>\n",
       "      <td>[0, 0, 0, 0]</td>\n",
       "    </tr>\n",
       "    <tr>\n",
       "      <th>[1, 1, 1, 1]</th>\n",
       "      <td>[1, 1, 1, 1, 1, 1, 1, 1]</td>\n",
       "      <td>8</td>\n",
       "      <td>[0, 0, 0, 0]</td>\n",
       "    </tr>\n",
       "  </tbody>\n",
       "</table>\n",
       "</div>"
      ],
      "text/plain": [
       "                                     v  hamm_weight     validated\n",
       "u                                                                \n",
       "[0, 0, 0, 0]  [0, 0, 0, 0, 0, 0, 0, 0]            0  [0, 0, 0, 0]\n",
       "[0, 0, 0, 1]  [0, 0, 0, 1, 1, 1, 1, 0]            4  [0, 0, 0, 0]\n",
       "[0, 0, 1, 0]  [0, 0, 1, 0, 0, 1, 1, 1]            4  [0, 0, 0, 0]\n",
       "[0, 0, 1, 1]  [0, 0, 1, 1, 1, 0, 0, 1]            4  [0, 0, 0, 0]\n",
       "[0, 1, 0, 0]  [0, 1, 0, 0, 1, 0, 1, 1]            4  [0, 0, 0, 0]\n",
       "[0, 1, 0, 1]  [0, 1, 0, 1, 0, 1, 0, 1]            4  [0, 0, 0, 0]\n",
       "[0, 1, 1, 0]  [0, 1, 1, 0, 1, 1, 0, 0]            4  [0, 0, 0, 0]\n",
       "[0, 1, 1, 1]  [0, 1, 1, 1, 0, 0, 1, 0]            4  [0, 0, 0, 0]\n",
       "[1, 0, 0, 0]  [1, 0, 0, 0, 1, 1, 0, 1]            4  [0, 0, 0, 0]\n",
       "[1, 0, 0, 1]  [1, 0, 0, 1, 0, 0, 1, 1]            4  [0, 0, 0, 0]\n",
       "[1, 0, 1, 0]  [1, 0, 1, 0, 1, 0, 1, 0]            4  [0, 0, 0, 0]\n",
       "[1, 0, 1, 1]  [1, 0, 1, 1, 0, 1, 0, 0]            4  [0, 0, 0, 0]\n",
       "[1, 1, 0, 0]  [1, 1, 0, 0, 0, 1, 1, 0]            4  [0, 0, 0, 0]\n",
       "[1, 1, 0, 1]  [1, 1, 0, 1, 1, 0, 0, 0]            4  [0, 0, 0, 0]\n",
       "[1, 1, 1, 0]  [1, 1, 1, 0, 0, 0, 0, 1]            4  [0, 0, 0, 0]\n",
       "[1, 1, 1, 1]  [1, 1, 1, 1, 1, 1, 1, 1]            8  [0, 0, 0, 0]"
      ]
     },
     "execution_count": 11,
     "metadata": {},
     "output_type": "execute_result"
    }
   ],
   "source": [
    "H = np.array(\n",
    "    [\n",
    "        [1, 1, 0, 1],\n",
    "        [1, 0, 1, 1],\n",
    "        [0, 1, 1, 1],\n",
    "        [1, 1, 1, 0],\n",
    "        [1, 0, 0, 0],\n",
    "        [0, 1, 0, 0],\n",
    "        [0, 0, 1, 0],\n",
    "        [0, 0, 0, 1],\n",
    "    ]\n",
    ")\n",
    "\n",
    "df[\"validated\"] = df[\"v\"].apply(lambda x: ((np.array(x).T @ H) % 2))\n",
    "\n",
    "df"
   ]
  },
  {
   "cell_type": "markdown",
   "metadata": {},
   "source": [
    "Construa uma tabela de síndrome $\\rightarrow$ padrão de erro\n"
   ]
  },
  {
   "cell_type": "code",
   "execution_count": 12,
   "metadata": {},
   "outputs": [
    {
     "name": "stdout",
     "output_type": "stream",
     "text": [
      "t = 1.0\n"
     ]
    },
    {
     "data": {
      "image/png": "[encoded data removed]",
      "text/latex": [
       "$\\displaystyle \\left( 16, \\  16\\right)$"
      ],
      "text/plain": [
       "(16, 16)"
      ]
     },
     "execution_count": 12,
     "metadata": {},
     "output_type": "execute_result"
    }
   ],
   "source": [
    "import sys\n",
    "import numpy\n",
    "\n",
    "numpy.set_printoptions(threshold=sys.maxsize, linewidth=sys.maxsize)\n",
    "\n",
    "t = np.floor((d_min - 1) / 2)\n",
    "print(f\"t = {t}\")\n",
    "\n",
    "ap = np.zeros((2**m, 2**k, n), dtype=int)\n",
    "\n",
    "ap[0, :] = np.array(df[\"v\"].tolist())\n",
    "ap[1:9, 0] = np.eye(n)\n",
    "\n",
    "for row in range(1, 9):\n",
    "    for col in range(1, 2**k):\n",
    "        ap[row, col] = (ap[0, col] + ap[row, 0]) % 2\n",
    "\n",
    "\n",
    "def to_string(x):\n",
    "    return \"\".join(map(str, x))\n",
    "\n",
    "\n",
    "def to_array(x):\n",
    "    return np.array(list(x), dtype=int)\n",
    "\n",
    "\n",
    "possible_words_with_weight_2 = list()\n",
    "\n",
    "positions = it.combinations(range(n), 2)\n",
    "for pos in positions:\n",
    "    error_pattern = np.zeros(n, dtype=int)\n",
    "    error_pattern[list(pos)] = 1\n",
    "    possible_words_with_weight_2.append(to_string(error_pattern))\n",
    "\n",
    "\n",
    "for row in range(9, 2**k):\n",
    "    next_error_pattern = to_array(possible_words_with_weight_2.pop(0))\n",
    "\n",
    "    ap[row, 0] = next_error_pattern\n",
    "    for col in range(1, 2**k):\n",
    "        ap[row, col] = (ap[0, col] + ap[row, 0]) % 2\n",
    "        if sum(ap[row, col]) == 2:\n",
    "            possible_words_with_weight_2.remove(to_string(ap[row, col]))\n",
    "\n",
    "\n",
    "w_matrix = np.zeros((2**m, 2**k), dtype=int)\n",
    "for row in range(0, 2**m):\n",
    "    for col in range(0, 2**k):\n",
    "        w_matrix[row, col] = sum(ap[row, col])\n",
    "\n",
    "\n",
    "# Convert each 2D sub-array into a concatenated string and store in a 2D array\n",
    "str_2d = np.array([\"\".join(map(str, row)) for layer in ap for row in layer]).reshape(\n",
    "    ap.shape[0], -1\n",
    ")\n",
    "\n",
    "str_2d.shape"
   ]
  },
  {
   "cell_type": "code",
   "execution_count": 70,
   "metadata": {},
   "outputs": [
    {
     "data": {
      "image/png": "[encoded data removed]",
      "text/latex": [
       "$\\displaystyle \\left( 4, \\  8\\right)$"
      ],
      "text/plain": [
       "(4, 8)"
      ]
     },
     "metadata": {},
     "output_type": "display_data"
    },
    {
     "data": {
      "image/png": "[encoded data removed]",
      "text/latex": [
       "$\\displaystyle \\left( 8, \\  16\\right)$"
      ],
      "text/plain": [
       "(8, 16)"
      ]
     },
     "metadata": {},
     "output_type": "display_data"
    },
    {
     "data": {
      "image/png": "[encoded data removed]",
      "text/latex": [
       "$\\displaystyle \\left( 16, \\  4\\right)$"
      ],
      "text/plain": [
       "(16, 4)"
      ]
     },
     "metadata": {},
     "output_type": "display_data"
    },
    {
     "data": {
      "text/html": [
       "<div>\n",
       "<style scoped>\n",
       "    .dataframe tbody tr th:only-of-type {\n",
       "        vertical-align: middle;\n",
       "    }\n",
       "\n",
       "    .dataframe tbody tr th {\n",
       "        vertical-align: top;\n",
       "    }\n",
       "\n",
       "    .dataframe thead th {\n",
       "        text-align: right;\n",
       "    }\n",
       "</style>\n",
       "<table border=\"1\" class=\"dataframe\">\n",
       "  <thead>\n",
       "    <tr style=\"text-align: right;\">\n",
       "      <th></th>\n",
       "      <th>syndrome</th>\n",
       "      <th>error</th>\n",
       "    </tr>\n",
       "  </thead>\n",
       "  <tbody>\n",
       "    <tr>\n",
       "      <th>0</th>\n",
       "      <td>[0, 0, 0, 0]</td>\n",
       "      <td>[0, 0, 0, 0, 0, 0, 0, 0]</td>\n",
       "    </tr>\n",
       "    <tr>\n",
       "      <th>1</th>\n",
       "      <td>[1, 1, 0, 1]</td>\n",
       "      <td>[1, 0, 0, 0, 0, 0, 0, 0]</td>\n",
       "    </tr>\n",
       "    <tr>\n",
       "      <th>2</th>\n",
       "      <td>[1, 0, 1, 1]</td>\n",
       "      <td>[0, 1, 0, 0, 0, 0, 0, 0]</td>\n",
       "    </tr>\n",
       "    <tr>\n",
       "      <th>3</th>\n",
       "      <td>[0, 1, 1, 1]</td>\n",
       "      <td>[0, 0, 1, 0, 0, 0, 0, 0]</td>\n",
       "    </tr>\n",
       "    <tr>\n",
       "      <th>4</th>\n",
       "      <td>[1, 1, 1, 0]</td>\n",
       "      <td>[0, 0, 0, 1, 0, 0, 0, 0]</td>\n",
       "    </tr>\n",
       "    <tr>\n",
       "      <th>5</th>\n",
       "      <td>[1, 0, 0, 0]</td>\n",
       "      <td>[0, 0, 0, 0, 1, 0, 0, 0]</td>\n",
       "    </tr>\n",
       "    <tr>\n",
       "      <th>6</th>\n",
       "      <td>[0, 1, 0, 0]</td>\n",
       "      <td>[0, 0, 0, 0, 0, 1, 0, 0]</td>\n",
       "    </tr>\n",
       "    <tr>\n",
       "      <th>7</th>\n",
       "      <td>[0, 0, 1, 0]</td>\n",
       "      <td>[0, 0, 0, 0, 0, 0, 1, 0]</td>\n",
       "    </tr>\n",
       "    <tr>\n",
       "      <th>8</th>\n",
       "      <td>[0, 0, 0, 1]</td>\n",
       "      <td>[0, 0, 0, 0, 0, 0, 0, 1]</td>\n",
       "    </tr>\n",
       "    <tr>\n",
       "      <th>9</th>\n",
       "      <td>[0, 1, 1, 0]</td>\n",
       "      <td>[1, 1, 0, 0, 0, 0, 0, 0]</td>\n",
       "    </tr>\n",
       "    <tr>\n",
       "      <th>10</th>\n",
       "      <td>[1, 0, 1, 0]</td>\n",
       "      <td>[1, 0, 1, 0, 0, 0, 0, 0]</td>\n",
       "    </tr>\n",
       "    <tr>\n",
       "      <th>11</th>\n",
       "      <td>[0, 0, 1, 1]</td>\n",
       "      <td>[1, 0, 0, 1, 0, 0, 0, 0]</td>\n",
       "    </tr>\n",
       "    <tr>\n",
       "      <th>12</th>\n",
       "      <td>[0, 1, 0, 1]</td>\n",
       "      <td>[1, 0, 0, 0, 1, 0, 0, 0]</td>\n",
       "    </tr>\n",
       "    <tr>\n",
       "      <th>13</th>\n",
       "      <td>[1, 0, 0, 1]</td>\n",
       "      <td>[1, 0, 0, 0, 0, 1, 0, 0]</td>\n",
       "    </tr>\n",
       "    <tr>\n",
       "      <th>14</th>\n",
       "      <td>[1, 1, 1, 1]</td>\n",
       "      <td>[1, 0, 0, 0, 0, 0, 1, 0]</td>\n",
       "    </tr>\n",
       "    <tr>\n",
       "      <th>15</th>\n",
       "      <td>[1, 1, 0, 0]</td>\n",
       "      <td>[1, 0, 0, 0, 0, 0, 0, 1]</td>\n",
       "    </tr>\n",
       "  </tbody>\n",
       "</table>\n",
       "</div>"
      ],
      "text/plain": [
       "        syndrome                     error\n",
       "0   [0, 0, 0, 0]  [0, 0, 0, 0, 0, 0, 0, 0]\n",
       "1   [1, 1, 0, 1]  [1, 0, 0, 0, 0, 0, 0, 0]\n",
       "2   [1, 0, 1, 1]  [0, 1, 0, 0, 0, 0, 0, 0]\n",
       "3   [0, 1, 1, 1]  [0, 0, 1, 0, 0, 0, 0, 0]\n",
       "4   [1, 1, 1, 0]  [0, 0, 0, 1, 0, 0, 0, 0]\n",
       "5   [1, 0, 0, 0]  [0, 0, 0, 0, 1, 0, 0, 0]\n",
       "6   [0, 1, 0, 0]  [0, 0, 0, 0, 0, 1, 0, 0]\n",
       "7   [0, 0, 1, 0]  [0, 0, 0, 0, 0, 0, 1, 0]\n",
       "8   [0, 0, 0, 1]  [0, 0, 0, 0, 0, 0, 0, 1]\n",
       "9   [0, 1, 1, 0]  [1, 1, 0, 0, 0, 0, 0, 0]\n",
       "10  [1, 0, 1, 0]  [1, 0, 1, 0, 0, 0, 0, 0]\n",
       "11  [0, 0, 1, 1]  [1, 0, 0, 1, 0, 0, 0, 0]\n",
       "12  [0, 1, 0, 1]  [1, 0, 0, 0, 1, 0, 0, 0]\n",
       "13  [1, 0, 0, 1]  [1, 0, 0, 0, 0, 1, 0, 0]\n",
       "14  [1, 1, 1, 1]  [1, 0, 0, 0, 0, 0, 1, 0]\n",
       "15  [1, 1, 0, 0]  [1, 0, 0, 0, 0, 0, 0, 1]"
      ]
     },
     "execution_count": 70,
     "metadata": {},
     "output_type": "execute_result"
    }
   ],
   "source": [
    "display(H.T.shape)\n",
    "display(ap[:, 0, :].T.shape)\n",
    "\n",
    "syndrome = (H.T @ ap[:, 0, :].T) % 2\n",
    "display(syndrome.T.shape)\n",
    "syndrome.T\n",
    "\n",
    "e_s = pd.DataFrame(columns=[\"syndrome\", \"error\"])\n",
    "\n",
    "e_s[\"syndrome\"] = [x for x in syndrome.T]\n",
    "e_s[\"error\"] = [x for x in ap[:, 0, :]]\n",
    "\n",
    "e_s"
   ]
  },
  {
   "cell_type": "code",
   "execution_count": 14,
   "metadata": {},
   "outputs": [
    {
     "data": {
      "text/plain": [
       "error\n",
       "0    1\n",
       "1    8\n",
       "2    7\n",
       "Name: count, dtype: int64"
      ]
     },
     "execution_count": 14,
     "metadata": {},
     "output_type": "execute_result"
    }
   ],
   "source": [
    "e_s[\"error\"].apply(lambda x: sum(to_array(x))).value_counts().sort_index()"
   ]
  },
  {
   "cell_type": "markdown",
   "metadata": {},
   "source": [
    "### Questão 2"
   ]
  },
  {
   "cell_type": "code",
   "execution_count": 135,
   "metadata": {},
   "outputs": [],
   "source": [
    "import numpy as np\n",
    "import komm\n",
    "\n",
    "n = 8\n",
    "k = 4\n",
    "m = n - k\n",
    "syndrome_to_error = {tuple(s): e for s, e in zip(e_s[\"syndrome\"], e_s[\"error\"])}\n",
    "\n",
    "u = np.random.randint(0, 2, (100_000, 4))\n",
    "v = (u @ G) % 2\n",
    "\n",
    "qpsk_mod = komm.PSKModulation(4)\n",
    "\n",
    "SNR = range(-1, 8)  # dB\n",
    "ber = np.zeros(len(SNR))\n",
    "ber_hamm = np.zeros(len(SNR))\n",
    "\n",
    "for i, snr in enumerate(SNR):\n",
    "    snr_lin = 10 ** (snr / 10)\n",
    "    awgn = komm.AWGNChannel(signal_power=\"measured\", snr=snr_lin)\n",
    "\n",
    "    v_mod = qpsk_mod.modulate(v.flatten())\n",
    "    vb = awgn(v_mod)\n",
    "    v_demod = qpsk_mod.demodulate(vb).reshape(-1, 8)\n",
    "\n",
    "    s = ((H.T @ v_demod.T) % 2).T\n",
    "\n",
    "    errors = np.array([syndrome_to_error[tuple(x)] for x in s])\n",
    "    v_hat = (v_demod + errors) % 2\n",
    "\n",
    "    ber_hamm[i] = np.sum(v_hat.reshape(-1) != v.reshape(-1)) / 100_000\n",
    "\n",
    "    u_mod = qpsk_mod.modulate(u.flatten())\n",
    "    ub = awgn(u_mod)\n",
    "    u_hat = qpsk_mod.demodulate(ub).reshape(-1, 4)\n",
    "\n",
    "    ber[i] = np.sum(u_hat.reshape(-1) != u.reshape(-1)) / 100_000"
   ]
  },
  {
   "cell_type": "code",
   "execution_count": 136,
   "metadata": {},
   "outputs": [
    {
     "data": {
      "image/png": "[encoded data removed]",
      "text/plain": [
       "<Figure size 640x480 with 1 Axes>"
      ]
     },
     "metadata": {},
     "output_type": "display_data"
    }
   ],
   "source": [
    "import matplotlib.pyplot as plt\n",
    "\n",
    "plt.figure()\n",
    "\n",
    "plt.semilogy(SNR, ber, label=\"Original\")\n",
    "plt.semilogy(SNR, ber_hamm, label=\"Codificado\")\n",
    "\n",
    "plt.xlabel(\"SNR [dB]\")\n",
    "plt.ylabel(\"BER\")\n",
    "\n",
    "plt.legend()\n",
    "plt.grid()\n",
    "\n",
    "plt.show()"
   ]
  }
 ],
 "metadata": {
  "kernelspec": {
   "display_name": ".venv",
   "language": "python",
   "name": "python3"
  },
  "language_info": {
   "codemirror_mode": {
    "name": "ipython",
    "version": 3
   },
   "file_extension": ".py",
   "mimetype": "text/x-python",
   "name": "python",
   "nbconvert_exporter": "python",
   "pygments_lexer": "ipython3",
   "version": "3.12.2"
  }
 },
 "nbformat": 4,
 "nbformat_minor": 2
}
