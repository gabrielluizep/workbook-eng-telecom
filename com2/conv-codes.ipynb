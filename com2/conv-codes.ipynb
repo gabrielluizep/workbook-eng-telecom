{
 "cells": [
  {
   "cell_type": "code",
   "execution_count": 12,
   "metadata": {},
   "outputs": [],
   "source": [
    "import komm"
   ]
  },
  {
   "cell_type": "code",
   "execution_count": 13,
   "metadata": {},
   "outputs": [
    {
     "data": {
      "text/plain": [
       "(3, 2, np.int64(1))"
      ]
     },
     "metadata": {},
     "output_type": "display_data"
    },
    {
     "data": {
      "text/plain": [
       "array([0, 1, 1, 0, 1, 0, 1, 1, 0])"
      ]
     },
     "metadata": {},
     "output_type": "display_data"
    },
    {
     "data": {
      "text/plain": [
       "array([1, 0, 0, 0, 1, 0, 1, 1, 0])"
      ]
     },
     "metadata": {},
     "output_type": "display_data"
    }
   ],
   "source": [
    "code1 = komm.ConvolutionalCode(\n",
    "    feedforward_polynomials=[\n",
    "        [0b11, 0b10, 0b11],\n",
    "        [0b10, 0b01, 0b01],\n",
    "    ],\n",
    ")\n",
    "\n",
    "(n, k, mu) = (code1.num_output_bits, code1.num_input_bits, code1.memory_order)\n",
    "\n",
    "display((n, k, mu))\n",
    "\n",
    "encoder1 = komm.ConvolutionalStreamEncoder(code1)\n",
    "\n",
    "display(encoder1([0, 1, 1, 1, 1, 0]))\n",
    "display(encoder1([0, 1, 1, 1, 1, 0]))"
   ]
  },
  {
   "cell_type": "code",
   "execution_count": 14,
   "metadata": {},
   "outputs": [
    {
     "data": {
      "text/plain": [
       "(2, 1, np.int64(2))"
      ]
     },
     "metadata": {},
     "output_type": "display_data"
    },
    {
     "data": {
      "text/plain": [
       "array([1, 1, 1, 0, 0, 0, 0, 1, 0, 1])"
      ]
     },
     "metadata": {},
     "output_type": "display_data"
    },
    {
     "data": {
      "text/plain": [
       "array([0, 0, 1, 0, 0, 0, 0, 1, 0, 1])"
      ]
     },
     "metadata": {},
     "output_type": "display_data"
    }
   ],
   "source": [
    "code2 = komm.ConvolutionalCode(\n",
    "    feedforward_polynomials=[\n",
    "        [0b111, 0b101],\n",
    "    ],\n",
    ")\n",
    "\n",
    "(n, k, mu) = (code2.num_output_bits, code2.num_input_bits, code2.memory_order)\n",
    "\n",
    "display((n, k, mu))\n",
    "\n",
    "encoder2 = komm.ConvolutionalStreamEncoder(code2)\n",
    "\n",
    "display(encoder2([1, 0, 1, 1, 0]))\n",
    "display(encoder2([1, 0, 1, 1, 0]))"
   ]
  }
 ],
 "metadata": {
  "kernelspec": {
   "display_name": ".venv",
   "language": "python",
   "name": "python3"
  },
  "language_info": {
   "codemirror_mode": {
    "name": "ipython",
    "version": 3
   },
   "file_extension": ".py",
   "mimetype": "text/x-python",
   "name": "python",
   "nbconvert_exporter": "python",
   "pygments_lexer": "ipython3",
   "version": "3.12.2"
  }
 },
 "nbformat": 4,
 "nbformat_minor": 2
}
