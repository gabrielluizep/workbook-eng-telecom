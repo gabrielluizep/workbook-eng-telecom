{
 "cells": [
  {
   "cell_type": "code",
   "execution_count": 21,
   "metadata": {},
   "outputs": [],
   "source": [
    "import komm\n",
    "import numpy as np"
   ]
  },
  {
   "cell_type": "code",
   "execution_count": 15,
   "metadata": {},
   "outputs": [
    {
     "data": {
      "text/plain": [
       "(3, 2, np.int64(1))"
      ]
     },
     "metadata": {},
     "output_type": "display_data"
    },
    {
     "data": {
      "text/plain": [
       "array([0, 1, 1, 0, 1, 0, 1, 1, 0])"
      ]
     },
     "metadata": {},
     "output_type": "display_data"
    },
    {
     "data": {
      "text/plain": [
       "array([1, 0, 0, 0, 1, 0, 1, 1, 0])"
      ]
     },
     "metadata": {},
     "output_type": "display_data"
    }
   ],
   "source": [
    "code1 = komm.ConvolutionalCode(\n",
    "    feedforward_polynomials=[\n",
    "        [0b11, 0b10, 0b11],\n",
    "        [0b10, 0b01, 0b01],\n",
    "    ],\n",
    ")\n",
    "\n",
    "(n, k, mu) = (code1.num_output_bits, code1.num_input_bits, code1.memory_order)\n",
    "\n",
    "display((n, k, mu))\n",
    "\n",
    "encoder1 = komm.ConvolutionalStreamEncoder(code1)\n",
    "\n",
    "display(encoder1([0, 1, 1, 1, 1, 0]))\n",
    "display(encoder1([0, 1, 1, 1, 1, 0]))"
   ]
  },
  {
   "cell_type": "code",
   "execution_count": 16,
   "metadata": {},
   "outputs": [
    {
     "data": {
      "text/plain": [
       "(2, 1, np.int64(2))"
      ]
     },
     "metadata": {},
     "output_type": "display_data"
    },
    {
     "data": {
      "text/plain": [
       "array([1, 1, 1, 0, 0, 0, 0, 1, 0, 1])"
      ]
     },
     "metadata": {},
     "output_type": "display_data"
    },
    {
     "data": {
      "text/plain": [
       "array([0, 0, 1, 0, 0, 0, 0, 1, 0, 1])"
      ]
     },
     "metadata": {},
     "output_type": "display_data"
    }
   ],
   "source": [
    "code2 = komm.ConvolutionalCode(\n",
    "    feedforward_polynomials=[\n",
    "        [0b111, 0b101],\n",
    "    ],\n",
    ")\n",
    "\n",
    "(n, k, mu) = (code2.num_output_bits, code2.num_input_bits, code2.memory_order)\n",
    "\n",
    "display((n, k, mu))\n",
    "\n",
    "encoder2 = komm.ConvolutionalStreamEncoder(code2)\n",
    "\n",
    "display(encoder2([1, 0, 1, 1, 0]))\n",
    "display(encoder2([1, 0, 1, 1, 0]))"
   ]
  },
  {
   "cell_type": "code",
   "execution_count": 17,
   "metadata": {},
   "outputs": [
    {
     "data": {
      "text/plain": [
       "(10, 5, np.int64(2))"
      ]
     },
     "metadata": {},
     "output_type": "display_data"
    },
    {
     "data": {
      "text/plain": [
       "array([1, 1, 1, 0, 0, 0, 0, 1, 0, 1])"
      ]
     },
     "execution_count": 17,
     "metadata": {},
     "output_type": "execute_result"
    }
   ],
   "source": [
    "block_code_trunc = komm.TerminatedConvolutionalCode(\n",
    "    code2, num_blocks=5, mode=\"direct-truncation\"\n",
    ")\n",
    "\n",
    "(n, k, mu) = (\n",
    "    block_code_trunc.length,\n",
    "    block_code_trunc.dimension,\n",
    "    block_code_trunc.minimum_distance,\n",
    ")\n",
    "\n",
    "display((n, k, mu))\n",
    "\n",
    "block_code_trunc.enc_mapping([1, 0, 1, 1, 0])"
   ]
  },
  {
   "cell_type": "code",
   "execution_count": 18,
   "metadata": {},
   "outputs": [
    {
     "data": {
      "text/plain": [
       "(np.int64(14), 5, np.int64(5))"
      ]
     },
     "metadata": {},
     "output_type": "display_data"
    },
    {
     "data": {
      "text/plain": [
       "array([1, 1, 1, 0, 0, 0, 0, 1, 0, 1, 1, 1, 0, 0])"
      ]
     },
     "execution_count": 18,
     "metadata": {},
     "output_type": "execute_result"
    }
   ],
   "source": [
    "block_code_zero = komm.TerminatedConvolutionalCode(\n",
    "    code2, num_blocks=5, mode=\"zero-termination\"\n",
    ")\n",
    "\n",
    "(n, k, mu) = (\n",
    "    block_code_zero.length,\n",
    "    block_code_zero.dimension,\n",
    "    block_code_zero.minimum_distance,\n",
    ")\n",
    "\n",
    "display((n, k, mu))\n",
    "\n",
    "block_code_zero.enc_mapping([1, 0, 1, 1, 0])"
   ]
  },
  {
   "cell_type": "code",
   "execution_count": 19,
   "metadata": {},
   "outputs": [
    {
     "data": {
      "text/plain": [
       "(10, 5, np.int64(3))"
      ]
     },
     "metadata": {},
     "output_type": "display_data"
    },
    {
     "data": {
      "text/plain": [
       "array([0, 0, 1, 0, 0, 0, 0, 1, 0, 1])"
      ]
     },
     "execution_count": 19,
     "metadata": {},
     "output_type": "execute_result"
    }
   ],
   "source": [
    "block_code_tail = komm.TerminatedConvolutionalCode(\n",
    "    code2, num_blocks=5, mode=\"tail-biting\"\n",
    ")\n",
    "\n",
    "(n, k, mu) = (\n",
    "    block_code_tail.length,\n",
    "    block_code_tail.dimension,\n",
    "    block_code_tail.minimum_distance,\n",
    ")\n",
    "\n",
    "display((n, k, mu))\n",
    "\n",
    "block_code_tail.enc_mapping([1, 0, 1, 1, 0])"
   ]
  },
  {
   "cell_type": "code",
   "execution_count": 121,
   "metadata": {},
   "outputs": [
    {
     "name": "stdout",
     "output_type": "stream",
     "text": [
      "0.0\n"
     ]
    }
   ],
   "source": [
    "h = 100\n",
    "block_code = komm.TerminatedConvolutionalCode(\n",
    "    code2, num_blocks=h, mode=\"zero-termination\"\n",
    ")\n",
    "encoder = komm.BlockEncoder(block_code)\n",
    "# TODO: SUBIR COMMIT NO KOMM PARA TROCAR UNDERLINE POR HÍFEN\n",
    "decoder = komm.BlockDecoder(block_code, method=\"viterbi_hard\")\n",
    "\n",
    "u = np.random.randint(0, 2, h)\n",
    "v = encoder(u)\n",
    "\n",
    "channel = komm.BinarySymmetricChannel(0.05)\n",
    "b = channel(v)\n",
    "\n",
    "u_hat = decoder(b)\n",
    "errors = np.sum(v != b)\n",
    "\n",
    "ber = np.mean(u != u_hat)\n",
    "\n",
    "print(ber)"
   ]
  }
 ],
 "metadata": {
  "kernelspec": {
   "display_name": ".venv",
   "language": "python",
   "name": "python3"
  },
  "language_info": {
   "codemirror_mode": {
    "name": "ipython",
    "version": 3
   },
   "file_extension": ".py",
   "mimetype": "text/x-python",
   "name": "python",
   "nbconvert_exporter": "python",
   "pygments_lexer": "ipython3",
   "version": "3.12.2"
  }
 },
 "nbformat": 4,
 "nbformat_minor": 2
}
