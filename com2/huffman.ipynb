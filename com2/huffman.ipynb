{
 "cells": [
  {
   "cell_type": "code",
   "execution_count": 1,
   "metadata": {},
   "outputs": [],
   "source": [
    "import struct\n",
    "import komm\n",
    "import numpy as np\n",
    "import matplotlib.pyplot as plt"
   ]
  },
  {
   "cell_type": "code",
   "execution_count": 2,
   "metadata": {},
   "outputs": [],
   "source": [
    "pxa = 3 / 10\n",
    "pxb = 6 / 10\n",
    "pxc = 1 / 10"
   ]
  },
  {
   "cell_type": "code",
   "execution_count": 3,
   "metadata": {},
   "outputs": [
    {
     "data": {
      "text/plain": [
       "np.float64(1.295461844238322)"
      ]
     },
     "execution_count": 3,
     "metadata": {},
     "output_type": "execute_result"
    }
   ],
   "source": [
    "arr = [pxa, pxb, pxc]\n",
    "\n",
    "Hx = 0\n",
    "for i in range(len(arr)):\n",
    "    px = arr[i]\n",
    "    Hx += -px * np.log2(px)\n",
    "\n",
    "Hx"
   ]
  },
  {
   "cell_type": "code",
   "execution_count": 4,
   "metadata": {},
   "outputs": [
    {
     "data": {
      "text/plain": [
       "[0.09, 0.18, 0.03, 0.18, 0.36, 0.06, 0.03, 0.06, 0.010000000000000002]"
      ]
     },
     "execution_count": 4,
     "metadata": {},
     "output_type": "execute_result"
    }
   ],
   "source": [
    "x2 = [i * j for i in arr for j in arr]\n",
    "\n",
    "x2"
   ]
  },
  {
   "cell_type": "code",
   "execution_count": 5,
   "metadata": {},
   "outputs": [
    {
     "data": {
      "text/plain": [
       "np.float64(2.5909236884766433)"
      ]
     },
     "execution_count": 5,
     "metadata": {},
     "output_type": "execute_result"
    }
   ],
   "source": [
    "Hx2 = 0\n",
    "for i in range(len(x2)):\n",
    "    Hx2 += -x2[i] * np.log2(x2[i])\n",
    "\n",
    "Hx2"
   ]
  },
  {
   "cell_type": "code",
   "execution_count": 6,
   "metadata": {},
   "outputs": [
    {
     "data": {
      "text/plain": [
       "2.94"
      ]
     },
     "execution_count": 6,
     "metadata": {},
     "output_type": "execute_result"
    }
   ],
   "source": [
    "(\n",
    "    0.36 * 2\n",
    "    + 0.18 * 2\n",
    "    + 0.18 * 3\n",
    "    + 0.09 * 4\n",
    "    + 0.06 * 4\n",
    "    + 0.06 * 5\n",
    "    + 0.03 * 6\n",
    "    + 0.03 * 6\n",
    "    + 0.01 * 6\n",
    ")"
   ]
  },
  {
   "cell_type": "markdown",
   "metadata": {},
   "source": [
    "### Alice no País das Maravilhas"
   ]
  },
  {
   "cell_type": "code",
   "execution_count": 7,
   "metadata": {},
   "outputs": [],
   "source": [
    "with open(\"assets/pg11.txt\") as f:\n",
    "    text = f.read()\n",
    "\n",
    "# Contar caracteres e ordenar por frequência\n",
    "chars = list(set(text))\n",
    "counts = {c: text.count(c) for c in chars}\n",
    "chars_sorted = sorted(chars, key=lambda c: counts[c], reverse=True)  # Ordenação crítica\n",
    "pmf = [counts[c] / len(text) for c in chars_sorted]"
   ]
  },
  {
   "cell_type": "code",
   "execution_count": 8,
   "metadata": {},
   "outputs": [],
   "source": [
    "import struct\n",
    "\n",
    "with open(\"encoded_text.bin\", \"rb\") as file:\n",
    "    # Ler metadados básicos\n",
    "    padding = int.from_bytes(file.read(1), byteorder=\"big\")\n",
    "\n",
    "    # Ler tamanho da tabela de códigos (4 bytes)\n",
    "    num_codigos = struct.unpack(\"I\", file.read(4))[0]\n",
    "\n",
    "    # Reconstruir tabela de códigos\n",
    "    codes = {}\n",
    "    for _ in range(num_codigos):\n",
    "        # Ler caractere\n",
    "        tamanho_char = struct.unpack(\"B\", file.read(1))[0]\n",
    "        char = file.read(tamanho_char).decode(\"utf-8\")\n",
    "\n",
    "        # Ler código\n",
    "        tamanho_codigo = struct.unpack(\"B\", file.read(1))[0]\n",
    "        bytes_codigo = file.read((tamanho_codigo + 7) // 8)\n",
    "\n",
    "        # Converter para string binária\n",
    "        codigo_int = int.from_bytes(bytes_codigo, byteorder=\"big\")\n",
    "        codigo = format(codigo_int, f\"0{tamanho_codigo}b\")\n",
    "        codes[codigo] = char\n",
    "\n",
    "    # Ler dados comprimidos\n",
    "    dados_comprimidos = file.read()\n",
    "\n",
    "# Converter bytes para string binária\n",
    "bits = \"\".join(format(byte, \"08b\") for byte in dados_comprimidos)\n",
    "if padding != 8:\n",
    "    bits = bits[:-padding]\n",
    "\n",
    "# Decodificação gulosa\n",
    "codigo_atual = \"\"\n",
    "texto_decodificado = []\n",
    "for bit in bits:\n",
    "    codigo_atual += bit\n",
    "    if codigo_atual in codes:\n",
    "        texto_decodificado.append(codes[codigo_atual])\n",
    "        codigo_atual = \"\"\n",
    "\n",
    "# Escrever resultado\n",
    "with open(\"huff_decoded.txt\", \"w\", encoding=\"utf-8\") as file:\n",
    "    file.write(\"\".join(texto_decodificado))"
   ]
  },
  {
   "cell_type": "code",
   "execution_count": 9,
   "metadata": {},
   "outputs": [
    {
     "name": "stdout",
     "output_type": "stream",
     "text": [
      "Contagem de caracteres:\n"
     ]
    },
    {
     "data": {
      "text/plain": [
       "{'L': 111,\n",
       " 'o': 9372,\n",
       " 'F': 123,\n",
       " 'g': 2768,\n",
       " 'm': 2210,\n",
       " 'q': 139,\n",
       " '(': 73,\n",
       " 'T': 482,\n",
       " 'i': 7856,\n",
       " 'U': 70,\n",
       " '1': 58,\n",
       " '?': 204,\n",
       " 'h': 7677,\n",
       " 'Z': 1,\n",
       " 'r': 6491,\n",
       " '5': 9,\n",
       " '’': 712,\n",
       " '#': 1,\n",
       " ']': 4,\n",
       " '“': 1129,\n",
       " '9': 7,\n",
       " '_': 440,\n",
       " '!': 452,\n",
       " 'X': 10,\n",
       " '—': 265,\n",
       " ')': 73,\n",
       " 'K': 81,\n",
       " 'C': 181,\n",
       " 'Y': 100,\n",
       " 'k': 1217,\n",
       " 'J': 13,\n",
       " '”': 1125,\n",
       " 'N': 136,\n",
       " '-': 158,\n",
       " 'I': 784,\n",
       " '2': 11,\n",
       " 'u': 3921,\n",
       " 'S': 229,\n",
       " 'd': 5272,\n",
       " 'G': 182,\n",
       " '‘': 47,\n",
       " 'B': 118,\n",
       " 'Q': 84,\n",
       " 'V': 26,\n",
       " 'n': 7935,\n",
       " '\\n': 3757,\n",
       " 'O': 146,\n",
       " 'v': 943,\n",
       " '•': 4,\n",
       " '.': 1223,\n",
       " 'A': 670,\n",
       " '/': 6,\n",
       " \"'\": 4,\n",
       " 'y': 2503,\n",
       " 'E': 193,\n",
       " 'f': 2255,\n",
       " 'b': 1635,\n",
       " 'R': 165,\n",
       " 'w': 2745,\n",
       " 'l': 5102,\n",
       " 'D': 206,\n",
       " 's': 7041,\n",
       " 'j': 223,\n",
       " ',': 2569,\n",
       " '*': 72,\n",
       " 'a': 9167,\n",
       " '0': 21,\n",
       " 'ù': 1,\n",
       " 'H': 245,\n",
       " ';': 193,\n",
       " '%': 1,\n",
       " 'e': 15287,\n",
       " 'p': 1795,\n",
       " '6': 7,\n",
       " 't': 11740,\n",
       " '[': 4,\n",
       " 'z': 78,\n",
       " '™': 57,\n",
       " 'P': 180,\n",
       " '$': 2,\n",
       " 'c': 2846,\n",
       " 'x': 170,\n",
       " 'M': 196,\n",
       " '8': 10,\n",
       " '3': 12,\n",
       " '\\ufeff': 1,\n",
       " ':': 246,\n",
       " ' ': 27601,\n",
       " '4': 9,\n",
       " 'W': 226,\n",
       " '7': 5}"
      ]
     },
     "execution_count": 9,
     "metadata": {},
     "output_type": "execute_result"
    }
   ],
   "source": [
    "print(\"Contagem de caracteres:\")\n",
    "counts"
   ]
  },
  {
   "cell_type": "code",
   "execution_count": 10,
   "metadata": {},
   "outputs": [
    {
     "name": "stdout",
     "output_type": "stream",
     "text": [
      "PMF\n"
     ]
    },
    {
     "data": {
      "text/plain": [
       "{' ': 0.16838194474100013,\n",
       " 'e': 0.09325947571666494,\n",
       " 't': 0.07162073951158804,\n",
       " 'o': 0.057174580127990045,\n",
       " 'a': 0.05592396244486606,\n",
       " 'n': 0.04840805519799413,\n",
       " 'i': 0.0479261098469366,\n",
       " 'h': 0.04683410708947712,\n",
       " 's': 0.04295414198476077,\n",
       " 'r': 0.039598826249550086,\n",
       " 'd': 0.0321622264655104,\n",
       " 'l': 0.031125128874627102,\n",
       " 'u': 0.023920350905020163,\n",
       " '\\n': 0.022919856758520978,\n",
       " 'c': 0.01736223378619928,\n",
       " 'g': 0.016886389009205766,\n",
       " 'w': 0.01674607580573332,\n",
       " ',': 0.015672374770465902,\n",
       " 'y': 0.015269736882240618,\n",
       " 'f': 0.0137567945143638,\n",
       " 'm': 0.013482268681482928,\n",
       " 'p': 0.010950530444914867,\n",
       " 'b': 0.009974438594671758,\n",
       " '.': 0.007461002080295756,\n",
       " 'k': 0.007424398635911639,\n",
       " '“': 0.00688754811827793,\n",
       " '”': 0.006863145822021853,\n",
       " 'v': 0.005752841342370317,\n",
       " 'I': 0.004782850066191229,\n",
       " '’': 0.00434360873358183,\n",
       " 'A': 0.004087384622893014,\n",
       " 'T': 0.0029404766988573626,\n",
       " '!': 0.00275745947693678,\n",
       " '_': 0.0026842525881685467,\n",
       " '—': 0.0016166521269651475,\n",
       " ':': 0.0015007412197487783,\n",
       " 'H': 0.001494640645684759,\n",
       " 'S': 0.0013970314606604481,\n",
       " 'W': 0.00137872973846839,\n",
       " 'j': 0.0013604280162763315,\n",
       " 'D': 0.0012567182571880013,\n",
       " '?': 0.0012445171090599626,\n",
       " 'M': 0.0011957125165478072,\n",
       " 'E': 0.001177410794355749,\n",
       " ';': 0.001177410794355749,\n",
       " 'G': 0.0011103044796515352,\n",
       " 'C': 0.0011042039055875158,\n",
       " 'P': 0.0010981033315234964,\n",
       " 'x': 0.0010370975908833022,\n",
       " 'R': 0.001006594720563205,\n",
       " '-': 0.000963890702115069,\n",
       " 'O': 0.0008906838133468359,\n",
       " 'q': 0.0008479797948986999,\n",
       " 'N': 0.0008296780727066417,\n",
       " 'F': 0.0007503706098743891,\n",
       " 'B': 0.0007198677395542921,\n",
       " 'L': 0.0006771637211061561,\n",
       " 'Y': 0.0006100574064019424,\n",
       " 'Q': 0.0005124482213776316,\n",
       " 'K': 0.0004941464991855734,\n",
       " 'z': 0.0004758447769935151,\n",
       " '(': 0.00044534190667341796,\n",
       " ')': 0.00044534190667341796,\n",
       " '*': 0.00043924133260939856,\n",
       " 'U': 0.0004270401844813597,\n",
       " '1': 0.0003538332957131266,\n",
       " '™': 0.0003477327216491072,\n",
       " '‘': 0.00028672698100891294,\n",
       " 'V': 0.00015861492566450502,\n",
       " '0': 0.0001281120553444079,\n",
       " 'J': 7.930746283225251e-05,\n",
       " '3': 7.320688876823309e-05,\n",
       " '2': 6.710631470421366e-05,\n",
       " 'X': 6.1005740640194244e-05,\n",
       " '8': 6.1005740640194244e-05,\n",
       " '5': 5.490516657617482e-05,\n",
       " '4': 5.490516657617482e-05,\n",
       " '9': 4.2704018448135966e-05,\n",
       " '6': 4.2704018448135966e-05,\n",
       " '/': 3.660344438411654e-05,\n",
       " '7': 3.0502870320097122e-05,\n",
       " ']': 2.44022962560777e-05,\n",
       " '•': 2.44022962560777e-05,\n",
       " \"'\": 2.44022962560777e-05,\n",
       " '[': 2.44022962560777e-05,\n",
       " '$': 1.220114812803885e-05,\n",
       " 'Z': 6.100574064019425e-06,\n",
       " '#': 6.100574064019425e-06,\n",
       " 'ù': 6.100574064019425e-06,\n",
       " '%': 6.100574064019425e-06,\n",
       " '\\ufeff': 6.100574064019425e-06}"
      ]
     },
     "execution_count": 10,
     "metadata": {},
     "output_type": "execute_result"
    }
   ],
   "source": [
    "print(\"PMF\")\n",
    "dict(zip(chars_sorted, pmf))"
   ]
  },
  {
   "cell_type": "code",
   "execution_count": 20,
   "metadata": {},
   "outputs": [
    {
     "name": "stdout",
     "output_type": "stream",
     "text": [
      "Entropy: 4.6039201555468905\n",
      "Mean length: 4.6432750321805285\n"
     ]
    }
   ],
   "source": [
    "huff = komm.HuffmanCode(pmf)\n",
    "dms = komm.DiscreteMemorylessSource(pmf)\n",
    "print(\"Entropy:\", dms.entropy())\n",
    "print(\"Mean length:\", huff.rate(pmf))"
   ]
  },
  {
   "cell_type": "code",
   "execution_count": 11,
   "metadata": {},
   "outputs": [
    {
     "name": "stdout",
     "output_type": "stream",
     "text": [
      "Original size: 163919 bytes\n",
      "Encoded size: 95591 bytes\n",
      "Decoded size: 163919 bytes\n",
      "Compression ratio: 41.68%\n"
     ]
    }
   ],
   "source": [
    "with open(\"assets/pg11.txt\") as f:\n",
    "    text = f.read()\n",
    "    original_size = len(text)\n",
    "\n",
    "with open(\"encoded_text.bin\", \"rb\") as f:\n",
    "    data = f.read()\n",
    "    encoded_size = len(data)\n",
    "\n",
    "with open(\"huff_decoded.txt\") as f:\n",
    "    text = f.read()\n",
    "    decoded_size = len(text)\n",
    "\n",
    "print(f\"Original size: {original_size} bytes\")\n",
    "print(f\"Encoded size: {encoded_size} bytes\")\n",
    "print(f\"Decoded size: {decoded_size} bytes\")\n",
    "print(f\"Compression ratio: {(1- encoded_size/original_size)*100:.2f}%\")"
   ]
  }
 ],
 "metadata": {
  "kernelspec": {
   "display_name": ".venv",
   "language": "python",
   "name": "python3"
  },
  "language_info": {
   "codemirror_mode": {
    "name": "ipython",
    "version": 3
   },
   "file_extension": ".py",
   "mimetype": "text/x-python",
   "name": "python",
   "nbconvert_exporter": "python",
   "pygments_lexer": "ipython3",
   "version": "3.11.9"
  }
 },
 "nbformat": 4,
 "nbformat_minor": 2
}
