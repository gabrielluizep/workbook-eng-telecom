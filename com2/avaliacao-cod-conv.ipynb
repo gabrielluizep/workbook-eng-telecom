{
 "cells": [
  {
   "cell_type": "code",
   "execution_count": 27,
   "metadata": {},
   "outputs": [],
   "source": [
    "import komm\n",
    "import numpy as np\n",
    "import matplotlib.pyplot as plt\n",
    "import scienceplots\n",
    "\n",
    "plt.style.use(\"science\")"
   ]
  },
  {
   "cell_type": "code",
   "execution_count": 28,
   "metadata": {},
   "outputs": [],
   "source": [
    "G_0 = np.array([1, 1, 1])\n",
    "G_1 = np.array([1, 1, 0])\n",
    "G_2 = np.array([0, 1, 1])"
   ]
  },
  {
   "cell_type": "code",
   "execution_count": 29,
   "metadata": {},
   "outputs": [
    {
     "name": "stdout",
     "output_type": "stream",
     "text": [
      "State: [0 0]\n",
      "Input: 0 \t Output: [0 0 0]\n",
      "Input: 1 \t Output: [1 1 1]\n",
      "State: [1 0]\n",
      "Input: 0 \t Output: [1 1 0]\n",
      "Input: 1 \t Output: [0 0 1]\n",
      "State: [1 1]\n",
      "Input: 0 \t Output: [1 0 1]\n",
      "Input: 1 \t Output: [0 1 0]\n",
      "State: [0 1]\n",
      "Input: 0 \t Output: [0 1 1]\n",
      "Input: 1 \t Output: [1 0 0]\n"
     ]
    }
   ],
   "source": [
    "states = np.array(\n",
    "    [\n",
    "        [0, 0],\n",
    "        [1, 0],\n",
    "        [1, 1],\n",
    "        [0, 1],\n",
    "    ],\n",
    ")\n",
    "\n",
    "inputs = np.array([0, 1])\n",
    "\n",
    "for s in states:\n",
    "    print(f\"State: {s}\")\n",
    "    for i in inputs:\n",
    "        output = np.array([i + s[0], i + s[0] + s[1], i + s[1]]) % 2\n",
    "        print(f\"Input: {i} \\t Output: {output}\")"
   ]
  },
  {
   "cell_type": "code",
   "execution_count": 30,
   "metadata": {},
   "outputs": [
    {
     "data": {
      "text/plain": [
       "(3, 1, 2, 0.3333333333333333)"
      ]
     },
     "execution_count": 30,
     "metadata": {},
     "output_type": "execute_result"
    }
   ],
   "source": [
    "code = komm.ConvolutionalCode(feedforward_polynomials=[[0b011, 0b111, 0b101]])\n",
    "\n",
    "(n, k, mu) = (code.num_output_bits, code.num_input_bits, int(code.memory_order))\n",
    "\n",
    "R = k / n\n",
    "\n",
    "(n, k, mu, R)"
   ]
  },
  {
   "cell_type": "code",
   "execution_count": 31,
   "metadata": {},
   "outputs": [
    {
     "data": {
      "text/plain": [
       "array([1, 1, 1, 0, 0, 1, 0, 1, 0, 1, 0, 1, 1, 0, 0, 1, 1, 0, 0, 1, 1])"
      ]
     },
     "execution_count": 31,
     "metadata": {},
     "output_type": "execute_result"
    }
   ],
   "source": [
    "block_code = komm.TerminatedConvolutionalCode(\n",
    "    code, num_blocks=5, mode=\"zero-termination\"\n",
    ")\n",
    "encoder = komm.BlockEncoder(block_code)\n",
    "\n",
    "encoder([1, 1, 1, 0, 1])"
   ]
  },
  {
   "cell_type": "code",
   "execution_count": 32,
   "metadata": {},
   "outputs": [
    {
     "data": {
      "text/plain": [
       "array([1, 0, 1, 1, 1])"
      ]
     },
     "execution_count": 32,
     "metadata": {},
     "output_type": "execute_result"
    }
   ],
   "source": [
    "decoder = komm.BlockDecoder(block_code, method=\"viterbi_hard\")\n",
    "\n",
    "decoder([1, 1, 0, 1, 1, 0, 1, 1, 0, 1, 1, 1, 0, 1, 0, 1, 0, 1, 1, 0, 1])"
   ]
  },
  {
   "cell_type": "code",
   "execution_count": 33,
   "metadata": {},
   "outputs": [],
   "source": [
    "# d_free"
   ]
  },
  {
   "cell_type": "markdown",
   "metadata": {},
   "source": [
    "# Questão 2"
   ]
  },
  {
   "cell_type": "code",
   "execution_count": 39,
   "metadata": {},
   "outputs": [],
   "source": [
    "M = 4  # Ordem da modulação\n",
    "frames = 1000  # Qantidade de quadros\n",
    "h = 200  # Blocos por quadro\n",
    "EbN0s = np.arange(-1, 8)  # Relação energia de bit por densidade de potência espectral\n",
    "\n",
    "modulation = komm.PSKModulation(M, labeling=\"reflected\")\n",
    "\n",
    "code = komm.ConvolutionalCode(feedforward_polynomials=[[0b1001111, 0b1101101]])\n",
    "block_code = komm.TerminatedConvolutionalCode(code, h, \"zero-termination\")\n",
    "encoder = komm.BlockEncoder(block_code)\n",
    "decoder = komm.BlockDecoder(block_code, method=\"viterbi_hard\")\n",
    "\n",
    "u = np.random.randint(0, 2, frames * h)\n",
    "v = encoder(u)\n",
    "v_mod = modulation.modulate(v)\n",
    "\n",
    "ber = np.zeros(len(EbN0s))\n",
    "for i, EbN0 in enumerate(EbN0s):\n",
    "    snr = R * np.log2(M) * 10 ** (EbN0 / 10)\n",
    "    awgn = komm.AWGNChannel(snr=snr, signal_power=\"measured\")\n",
    "\n",
    "    b = awgn(v_mod)\n",
    "\n",
    "    v_demod = modulation.demodulate(b)\n",
    "    u_hat = decoder(v_demod)\n",
    "\n",
    "    ber[i] = np.mean(u != u_hat)"
   ]
  },
  {
   "cell_type": "code",
   "execution_count": 47,
   "metadata": {},
   "outputs": [
    {
     "data": {
      "image/png": "[encoded data removed]",
      "text/plain": [
       "<Figure size 600x600 with 1 Axes>"
      ]
     },
     "metadata": {},
     "output_type": "display_data"
    }
   ],
   "source": [
    "plt.figure(figsize=(6, 6))\n",
    "\n",
    "plt.semilogy(EbN0s, ber, linestyle=\"dashed\", marker=\".\", label=\"Original\")\n",
    "\n",
    "plt.title(\"802.11 Convolutional Code (1/2) using QPSK on AWGN Channel\")\n",
    "plt.xlabel(\"Eb/N0 [dB]\")\n",
    "plt.ylabel(\"BER\")\n",
    "\n",
    "plt.legend()\n",
    "plt.grid(which=\"both\")\n",
    "\n",
    "plt.show()"
   ]
  }
 ],
 "metadata": {
  "kernelspec": {
   "display_name": ".venv",
   "language": "python",
   "name": "python3"
  },
  "language_info": {
   "codemirror_mode": {
    "name": "ipython",
    "version": 3
   },
   "file_extension": ".py",
   "mimetype": "text/x-python",
   "name": "python",
   "nbconvert_exporter": "python",
   "pygments_lexer": "ipython3",
   "version": "3.12.2"
  }
 },
 "nbformat": 4,
 "nbformat_minor": 2
}
