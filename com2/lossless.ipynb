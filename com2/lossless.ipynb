{
 "cells": [
  {
   "cell_type": "code",
   "execution_count": 8,
   "metadata": {},
   "outputs": [],
   "source": [
    "import komm"
   ]
  },
  {
   "cell_type": "code",
   "execution_count": 9,
   "metadata": {},
   "outputs": [],
   "source": [
    "code1 = komm.FixedToVariableCode.from_codewords(4, [(0, 0), (0, 1), (1, 0), (1, 1)])\n",
    "code2 = komm.FixedToVariableCode.from_codewords(4, [(1,), (0, 1), (0, 0, 0), (0, 0, 1)])\n",
    "code3 = komm.FixedToVariableCode.from_codewords(\n",
    "    4, [(0,), (0, 1), (0, 1, 1), (0, 1, 1, 1)]\n",
    ")\n",
    "code4 = komm.FixedToVariableCode.from_codewords(4, [(0,), (1,), (0, 0), (1, 1)])"
   ]
  },
  {
   "cell_type": "code",
   "execution_count": 24,
   "metadata": {},
   "outputs": [
    {
     "name": "stdout",
     "output_type": "stream",
     "text": [
      "Code 1 is uniquely decodable\t True\n",
      "Code 1 is prefix free\t\t True \n",
      "\n",
      "Code 2 is uniquely decodable\t True\n",
      "Code 2 is prefix free\t\t True \n",
      "\n",
      "Code 3 is uniquely decodable\t True\n",
      "Code 3 is prefix free\t\t False \n",
      "\n",
      "Code 4 is uniquely decodable\t False\n",
      "Code 4 is prefix free\t\t False\n"
     ]
    }
   ],
   "source": [
    "print(\"Code 1 is uniquely decodable\\t\", code1.is_uniquely_decodable())\n",
    "print(\"Code 1 is prefix free\\t\\t\", code1.is_prefix_free(), \"\\n\")\n",
    "\n",
    "print(\"Code 2 is uniquely decodable\\t\", code2.is_uniquely_decodable())\n",
    "print(\"Code 2 is prefix free\\t\\t\", code2.is_prefix_free(), \"\\n\")\n",
    "\n",
    "print(\"Code 3 is uniquely decodable\\t\", code3.is_uniquely_decodable())\n",
    "print(\"Code 3 is prefix free\\t\\t\", code3.is_prefix_free(), \"\\n\")\n",
    "\n",
    "print(\"Code 4 is uniquely decodable\\t\", code4.is_uniquely_decodable())\n",
    "print(\"Code 4 is prefix free\\t\\t\", code4.is_prefix_free())"
   ]
  },
  {
   "cell_type": "code",
   "execution_count": 31,
   "metadata": {},
   "outputs": [
    {
     "name": "stdout",
     "output_type": "stream",
     "text": [
      "Palavra original [1, 0, 1, 0, 2, 0] \n",
      "\n",
      "Code 1 encode [0 1 0 0 0 1 0 0 1 0 0 0]\n",
      "Code 1 decode [1 0 1 0 2 0] \n",
      "\n",
      "Code 2 encode [0 1 1 0 1 1 0 0 0 1]\n",
      "Code 2 decode [1 0 1 0 2 0] \n",
      "\n",
      "Code 3 encode [0 1 0 0 1 0 0 1 1 0]\n",
      "Code 4 encode [1 0 1 0 0 0 0]\n"
     ]
    }
   ],
   "source": [
    "word = [1, 0, 1, 0, 2, 0]\n",
    "\n",
    "print(\"Palavra original\", word, \"\\n\")\n",
    "\n",
    "encoded1 = code1.encode(word)\n",
    "decoded1 = code1.decode(encoded1)\n",
    "print(\"Code 1 encode\", code1.encode(word))\n",
    "print(\"Code 1 decode\", code1.decode(encoded1), \"\\n\")\n",
    "\n",
    "encoded2 = code2.encode(word)\n",
    "decoded2 = code2.decode(encoded2)\n",
    "print(\"Code 2 encode\", encoded2)\n",
    "print(\"Code 2 decode\", decoded2, \"\\n\")\n",
    "\n",
    "encoded3 = code3.encode(word)\n",
    "# decoded3 = code3.decode(encoded3) # Erro não implementado para não p.f.\n",
    "print(\"Code 3 encode\", encoded3)\n",
    "# print(\"Code 3 decode\", decoded3, \"\\n\")\n",
    "\n",
    "encoded4 = code4.encode(word)\n",
    "# decoded4 = code4.decode(encoded4)  # Erro não implementado para não p.f.\n",
    "print(\"Code 4 encode\", encoded4)\n",
    "# print(\"Code 4 decode\", decoded4)"
   ]
  },
  {
   "cell_type": "code",
   "execution_count": 34,
   "metadata": {},
   "outputs": [
    {
     "name": "stdout",
     "output_type": "stream",
     "text": [
      "Code 1 rate 2.0\n",
      "Code 2 rate 1.75\n",
      "Code 3 rate 1.875\n",
      "Code 4 rate 1.25\n"
     ]
    }
   ],
   "source": [
    "pmf = [1 / 2, 1 / 4, 1 / 8, 1 / 8]\n",
    "\n",
    "rate1 = code1.rate(pmf)\n",
    "print(\"Code 1 rate\", rate1)\n",
    "\n",
    "rate2 = code2.rate(pmf)\n",
    "print(\"Code 2 rate\", rate2)\n",
    "\n",
    "rate3 = code3.rate(pmf)\n",
    "print(\"Code 3 rate\", rate3)\n",
    "\n",
    "rate4 = code4.rate(pmf)\n",
    "print(\"Code 4 rate\", rate4)"
   ]
  },
  {
   "cell_type": "code",
   "execution_count": 45,
   "metadata": {},
   "outputs": [],
   "source": [
    "dms = komm.DiscreteMemorylessSource(pmf)\n",
    "text = dms(10000)"
   ]
  },
  {
   "cell_type": "code",
   "execution_count": 46,
   "metadata": {},
   "outputs": [
    {
     "name": "stdout",
     "output_type": "stream",
     "text": [
      "Code 1 encoded length 20000\n",
      "Code 2 encoded length 17412\n",
      "Code 3 encoded length 18633\n",
      "Code 4 encoded length 12466\n",
      "DMS Entropy 1.75\n"
     ]
    }
   ],
   "source": [
    "bits1 = code1.encode(text)\n",
    "print(\"Code 1 encoded length\", len(bits1))\n",
    "\n",
    "bits2 = code2.encode(text)\n",
    "print(\"Code 2 encoded length\", len(bits2))\n",
    "\n",
    "bits3 = code3.encode(text)\n",
    "print(\"Code 3 encoded length\", len(bits3))\n",
    "\n",
    "bits4 = code4.encode(text)\n",
    "print(\"Code 4 encoded length\", len(bits4))\n",
    "\n",
    "print(\"DMS Entropy\", dms.entropy())"
   ]
  },
  {
   "cell_type": "code",
   "execution_count": null,
   "metadata": {},
   "outputs": [],
   "source": []
  }
 ],
 "metadata": {
  "kernelspec": {
   "display_name": ".venv",
   "language": "python",
   "name": "python3"
  },
  "language_info": {
   "codemirror_mode": {
    "name": "ipython",
    "version": 3
   },
   "file_extension": ".py",
   "mimetype": "text/x-python",
   "name": "python",
   "nbconvert_exporter": "python",
   "pygments_lexer": "ipython3",
   "version": "3.12.2"
  }
 },
 "nbformat": 4,
 "nbformat_minor": 2
}
