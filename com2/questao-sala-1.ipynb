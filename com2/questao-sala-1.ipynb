{
 "cells": [
  {
   "cell_type": "code",
   "execution_count": 122,
   "metadata": {},
   "outputs": [],
   "source": [
    "import numpy as np\n",
    "from sympy import Matrix, init_printing\n",
    "\n",
    "init_printing()"
   ]
  },
  {
   "cell_type": "markdown",
   "metadata": {},
   "source": [
    "# Código lienar\n",
    "\n",
    "$$\n",
    "G = \\begin{bmatrix}\n",
    "1 \\quad 0 \\quad 1 \\quad 1 \\quad 1 \\quad 0 \\\\\n",
    "0 \\quad 1 \\quad 1 \\quad 0 \\quad 1 \\quad 1 \\\\\n",
    "\\end{bmatrix}_{(2,6)}\n",
    "$$\n",
    "\n",
    "(a) Determine os parâmetros n, k, m\n",
    "\n",
    "R: A partir da matriz geradora podemos extrair as informação de $n$ e $k$ sendo respectivamente o tamanho de colunas e linhas e $m$ é a subtração de $k$ por $n$. \n",
    "\n",
    "$$\n",
    "n = 6; \\quad k = 2 \\\\\n",
    "m = n - k = 4\n",
    "$$\n",
    "\n"
   ]
  },
  {
   "cell_type": "code",
   "execution_count": 123,
   "metadata": {},
   "outputs": [
    {
     "data": {
      "image/png": "[encoded data removed]",
      "text/latex": [
       "$\\displaystyle \\left[\\begin{matrix}1 & 0 & 1 & 1 & 1 & 0\\\\0 & 1 & 1 & 0 & 1 & 1\\end{matrix}\\right]$"
      ],
      "text/plain": [
       "⎡1  0  1  1  1  0⎤\n",
       "⎢                ⎥\n",
       "⎣0  1  1  0  1  1⎦"
      ]
     },
     "metadata": {},
     "output_type": "display_data"
    },
    {
     "data": {
      "image/png": "[encoded data removed]",
      "text/latex": [
       "$\\displaystyle \\left( 6, \\  2, \\  4\\right)$"
      ],
      "text/plain": [
       "(6, 2, 4)"
      ]
     },
     "metadata": {},
     "output_type": "display_data"
    }
   ],
   "source": [
    "G = np.array(\n",
    "    [\n",
    "        [1, 0, 1, 1, 1, 0],\n",
    "        [0, 1, 1, 0, 1, 1],\n",
    "    ]\n",
    ")\n",
    "\n",
    "k, n = G.shape\n",
    "m = n - k\n",
    "\n",
    "display(Matrix(G))\n",
    "display((n, k, m))"
   ]
  },
  {
   "cell_type": "markdown",
   "metadata": {},
   "source": [
    "(b) Construa a tabela de codificação ($Enc$) $u \\mapsto v$\n",
    "\n",
    "\n",
    "R: A tabela de codificação é gerada a partir da multiplicação matricial da matrix com as mensagens $u$ e da matrix binária $G$\n",
    "\n",
    "$$\n",
    "v = uG\n",
    "$$"
   ]
  },
  {
   "cell_type": "code",
   "execution_count": 124,
   "metadata": {},
   "outputs": [
    {
     "data": {
      "text/plain": [
       "'u'"
      ]
     },
     "metadata": {},
     "output_type": "display_data"
    },
    {
     "data": {
      "image/png": "[encoded data removed]",
      "text/latex": [
       "$\\displaystyle \\left[\\begin{matrix}0 & 0\\\\0 & 1\\\\1 & 0\\\\1 & 1\\end{matrix}\\right]$"
      ],
      "text/plain": [
       "⎡0  0⎤\n",
       "⎢    ⎥\n",
       "⎢0  1⎥\n",
       "⎢    ⎥\n",
       "⎢1  0⎥\n",
       "⎢    ⎥\n",
       "⎣1  1⎦"
      ]
     },
     "metadata": {},
     "output_type": "display_data"
    },
    {
     "data": {
      "text/plain": [
       "'v'"
      ]
     },
     "metadata": {},
     "output_type": "display_data"
    },
    {
     "data": {
      "image/png": "[encoded data removed]",
      "text/latex": [
       "$\\displaystyle \\left[\\begin{matrix}0 & 0 & 0 & 0 & 0 & 0\\\\0 & 1 & 1 & 0 & 1 & 1\\\\1 & 0 & 1 & 1 & 1 & 0\\\\1 & 1 & 0 & 1 & 0 & 1\\end{matrix}\\right]$"
      ],
      "text/plain": [
       "⎡0  0  0  0  0  0⎤\n",
       "⎢                ⎥\n",
       "⎢0  1  1  0  1  1⎥\n",
       "⎢                ⎥\n",
       "⎢1  0  1  1  1  0⎥\n",
       "⎢                ⎥\n",
       "⎣1  1  0  1  0  1⎦"
      ]
     },
     "metadata": {},
     "output_type": "display_data"
    }
   ],
   "source": [
    "u = np.array([list(bin(i)[2:].zfill(k)) for i in range(2**k)], dtype=(np.int8))\n",
    "display(\"u\")\n",
    "display(Matrix(u))\n",
    "\n",
    "display(\"v\")\n",
    "v = (u @ G) % 2\n",
    "display(Matrix(v))"
   ]
  },
  {
   "cell_type": "markdown",
   "metadata": {},
   "source": [
    "(c) Determine a distância mínima, a capacidade de correção e a distribuição de peso das palavra-código."
   ]
  },
  {
   "cell_type": "code",
   "execution_count": 125,
   "metadata": {},
   "outputs": [
    {
     "data": {
      "image/png": "[encoded data removed]",
      "text/latex": [
       "$\\displaystyle \\left[\\begin{matrix}0\\\\4\\\\4\\\\4\\end{matrix}\\right]$"
      ],
      "text/plain": [
       "⎡0⎤\n",
       "⎢ ⎥\n",
       "⎢4⎥\n",
       "⎢ ⎥\n",
       "⎢4⎥\n",
       "⎢ ⎥\n",
       "⎣4⎦"
      ]
     },
     "metadata": {},
     "output_type": "display_data"
    },
    {
     "name": "stdout",
     "output_type": "stream",
     "text": [
      "d_min = 4\n",
      "t = 1\n"
     ]
    }
   ],
   "source": [
    "def hamming_distance(a, b):\n",
    "    distance = 0\n",
    "\n",
    "    for i, _ in enumerate(a):\n",
    "        if a[i] != b[i]:\n",
    "            distance += 1\n",
    "\n",
    "    return distance\n",
    "\n",
    "\n",
    "def hamming_weight(a):\n",
    "    return a.sum()\n",
    "\n",
    "\n",
    "weights = np.apply_along_axis(hamming_weight, 1, v)\n",
    "display(Matrix(weights))\n",
    "\n",
    "d_min = weights[1:].min()\n",
    "print(f\"d_min = {d_min}\")\n",
    "\n",
    "t = int(np.floor((d_min - 1) / 2))\n",
    "print(f\"t = {t}\")"
   ]
  },
  {
   "cell_type": "markdown",
   "metadata": {},
   "source": [
    "(d) Contrua um arranjo-padrão."
   ]
  },
  {
   "cell_type": "code",
   "execution_count": 134,
   "metadata": {},
   "outputs": [
    {
     "data": {
      "text/plain": [
       "[['0', '0', '0', '0', '0', '1'],\n",
       " ['0', '0', '0', '0', '1', '0'],\n",
       " ['0', '0', '0', '0', '1', '1']]"
      ]
     },
     "execution_count": 134,
     "metadata": {},
     "output_type": "execute_result"
    }
   ],
   "source": [
    "ap = np.zeros((2**m, 2**k, n), dtype=np.int8)\n",
    "\n",
    "ap[1] = v\n",
    "\n",
    "e = [list(bin(i)[2:].zfill(n)) for i in range(1, m)]\n",
    "\n",
    "e"
   ]
  },
  {
   "cell_type": "markdown",
   "metadata": {},
   "source": [
    "(e) Construa uma tabela síndrome padrão-de-erro $u \\mapsto v$\n",
    "\n",
    "(f) Utilize a tabela da letra (e) padrão decodificar a palavra recebida $b=100010$"
   ]
  }
 ],
 "metadata": {
  "kernelspec": {
   "display_name": ".venv",
   "language": "python",
   "name": "python3"
  },
  "language_info": {
   "codemirror_mode": {
    "name": "ipython",
    "version": 3
   },
   "file_extension": ".py",
   "mimetype": "text/x-python",
   "name": "python",
   "nbconvert_exporter": "python",
   "pygments_lexer": "ipython3",
   "version": "3.12.2"
  }
 },
 "nbformat": 4,
 "nbformat_minor": 2
}
