{
 "cells": [
  {
   "cell_type": "code",
   "execution_count": 3,
   "metadata": {},
   "outputs": [],
   "source": [
    "import komm\n",
    "import numpy as np\n",
    "from sympy import Matrix, init_printing\n",
    "\n",
    "# Initialize LaTeX printing in Jupyter\n",
    "init_printing()"
   ]
  },
  {
   "cell_type": "code",
   "execution_count": 16,
   "metadata": {},
   "outputs": [
    {
     "name": "stdout",
     "output_type": "stream",
     "text": [
      "(n, k) =\n"
     ]
    },
    {
     "data": {
      "image/png": "[encoded data removed]",
      "text/latex": [
       "$\\displaystyle \\left( 3, \\  1\\right)$"
      ],
      "text/plain": [
       "(3, 1)"
      ]
     },
     "metadata": {},
     "output_type": "display_data"
    },
    {
     "name": "stdout",
     "output_type": "stream",
     "text": [
      "G =\n"
     ]
    },
    {
     "data": {
      "image/png": "[encoded data removed]",
      "text/latex": [
       "$\\displaystyle \\left[\\begin{matrix}1 & 1 & 1\\end{matrix}\\right]$"
      ],
      "text/plain": [
       "[1  1  1]"
      ]
     },
     "metadata": {},
     "output_type": "display_data"
    }
   ],
   "source": [
    "rep31 = komm.RepetitionCode(3)\n",
    "(n, k) = (rep31.length, rep31.dimension)\n",
    "G = rep31.generator_matrix\n",
    "\n",
    "print(\"(n, k) =\")\n",
    "display((n,k))\n",
    "\n",
    "print(\"G =\")\n",
    "display(Matrix(G))"
   ]
  },
  {
   "cell_type": "code",
   "execution_count": 15,
   "metadata": {},
   "outputs": [
    {
     "name": "stdout",
     "output_type": "stream",
     "text": [
      "(n,k) = \n"
     ]
    },
    {
     "data": {
      "image/png": "[encoded data removed]",
      "text/latex": [
       "$\\displaystyle \\left( 3, \\  2\\right)$"
      ],
      "text/plain": [
       "(3, 2)"
      ]
     },
     "metadata": {},
     "output_type": "display_data"
    },
    {
     "name": "stdout",
     "output_type": "stream",
     "text": [
      "G = \n"
     ]
    },
    {
     "data": {
      "image/png": "[encoded data removed]",
      "text/latex": [
       "$\\displaystyle \\left[\\begin{matrix}1 & 0 & 1\\\\0 & 1 & 1\\end{matrix}\\right]$"
      ],
      "text/plain": [
       "⎡1  0  1⎤\n",
       "⎢       ⎥\n",
       "⎣0  1  1⎦"
      ]
     },
     "metadata": {},
     "output_type": "display_data"
    }
   ],
   "source": [
    "spc32 = komm.SingleParityCheckCode(3)\n",
    "(n, k) = (spc32.length, spc32.dimension)\n",
    "G = spc32.generator_matrix\n",
    "\n",
    "print(\"(n,k) = \")\n",
    "display((n,k))\n",
    "\n",
    "print(\"G = \")\n",
    "display(Matrix(G))"
   ]
  },
  {
   "cell_type": "code",
   "execution_count": 14,
   "metadata": {},
   "outputs": [
    {
     "name": "stdout",
     "output_type": "stream",
     "text": [
      "(n, k) =\n"
     ]
    },
    {
     "data": {
      "image/png": "[encoded data removed]",
      "text/latex": [
       "$\\displaystyle \\left( 7, \\  4\\right)$"
      ],
      "text/plain": [
       "(7, 4)"
      ]
     },
     "metadata": {},
     "output_type": "display_data"
    },
    {
     "name": "stdout",
     "output_type": "stream",
     "text": [
      "G =\n"
     ]
    },
    {
     "data": {
      "image/png": "[encoded data removed]",
      "text/latex": [
       "$\\displaystyle \\left[\\begin{matrix}1 & 0 & 0 & 0 & 1 & 1 & 0\\\\0 & 1 & 0 & 0 & 1 & 0 & 1\\\\0 & 0 & 1 & 0 & 0 & 1 & 1\\\\0 & 0 & 0 & 1 & 1 & 1 & 1\\end{matrix}\\right]$"
      ],
      "text/plain": [
       "⎡1  0  0  0  1  1  0⎤\n",
       "⎢                   ⎥\n",
       "⎢0  1  0  0  1  0  1⎥\n",
       "⎢                   ⎥\n",
       "⎢0  0  1  0  0  1  1⎥\n",
       "⎢                   ⎥\n",
       "⎣0  0  0  1  1  1  1⎦"
      ]
     },
     "metadata": {},
     "output_type": "display_data"
    },
    {
     "name": "stdout",
     "output_type": "stream",
     "text": [
      "Mensagem:\n"
     ]
    },
    {
     "data": {
      "image/png": "[encoded data removed]",
      "text/latex": [
       "$\\displaystyle \\left[\\begin{matrix}1 & 0 & 1 & 1\\end{matrix}\\right]$"
      ],
      "text/plain": [
       "[1  0  1  1]"
      ]
     },
     "metadata": {},
     "output_type": "display_data"
    },
    {
     "name": "stdout",
     "output_type": "stream",
     "text": [
      "Palavra-código:\n"
     ]
    },
    {
     "data": {
      "image/png": "[encoded data removed]",
      "text/latex": [
       "$\\displaystyle \\left[\\begin{matrix}1 & 0 & 1 & 1 & 0 & 1 & 0\\end{matrix}\\right]$"
      ],
      "text/plain": [
       "[1  0  1  1  0  1  0]"
      ]
     },
     "metadata": {},
     "output_type": "display_data"
    }
   ],
   "source": [
    "hamm74 = komm.HammingCode(3)\n",
    "(n, k) = (hamm74.length, hamm74.dimension)\n",
    "G = hamm74.generator_matrix\n",
    "\n",
    "print(\"(n, k) =\")\n",
    "display((n,k))\n",
    "\n",
    "print(\"G =\")\n",
    "display(Matrix(G))\n",
    "\n",
    "u = np.array([1, 0, 1, 1])\n",
    "print(\"Mensagem:\")\n",
    "display(Matrix(u).T)\n",
    "\n",
    "v = (u @ G) % 2\n",
    "print(\"Palavra-código:\")\n",
    "display(Matrix(v).T)"
   ]
  }
 ],
 "metadata": {
  "kernelspec": {
   "display_name": ".venv",
   "language": "python",
   "name": "python3"
  },
  "language_info": {
   "codemirror_mode": {
    "name": "ipython",
    "version": 3
   },
   "file_extension": ".py",
   "mimetype": "text/x-python",
   "name": "python",
   "nbconvert_exporter": "python",
   "pygments_lexer": "ipython3",
   "version": "3.12.2"
  }
 },
 "nbformat": 4,
 "nbformat_minor": 2
}
