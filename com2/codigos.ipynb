{
 "cells": [
  {
   "cell_type": "code",
   "execution_count": 2,
   "metadata": {},
   "outputs": [],
   "source": [
    "import komm\n",
    "import numpy as np\n",
    "from sympy import Matrix, init_printing\n",
    "\n",
    "# Initialize LaTeX printing in Jupyter\n",
    "init_printing()"
   ]
  },
  {
   "cell_type": "code",
   "execution_count": 3,
   "metadata": {},
   "outputs": [
    {
     "name": "stdout",
     "output_type": "stream",
     "text": [
      "(n, k) =\n"
     ]
    },
    {
     "data": {
      "image/png": "[encoded data removed]",
      "text/latex": [
       "$\\displaystyle \\left( 3, \\  1\\right)$"
      ],
      "text/plain": [
       "(3, 1)"
      ]
     },
     "metadata": {},
     "output_type": "display_data"
    },
    {
     "name": "stdout",
     "output_type": "stream",
     "text": [
      "G =\n"
     ]
    },
    {
     "data": {
      "image/png": "[encoded data removed]",
      "text/latex": [
       "$\\displaystyle \\left[\\begin{matrix}1 & 1 & 1\\end{matrix}\\right]$"
      ],
      "text/plain": [
       "[1  1  1]"
      ]
     },
     "metadata": {},
     "output_type": "display_data"
    }
   ],
   "source": [
    "rep31 = komm.RepetitionCode(3)\n",
    "(n, k) = (rep31.length, rep31.dimension)\n",
    "G = rep31.generator_matrix\n",
    "\n",
    "print(\"(n, k) =\")\n",
    "display((n,k))\n",
    "\n",
    "print(\"G =\")\n",
    "display(Matrix(G))"
   ]
  },
  {
   "cell_type": "code",
   "execution_count": 4,
   "metadata": {},
   "outputs": [
    {
     "name": "stdout",
     "output_type": "stream",
     "text": [
      "(n,k) = \n"
     ]
    },
    {
     "data": {
      "image/png": "[encoded data removed]",
      "text/latex": [
       "$\\displaystyle \\left( 3, \\  2\\right)$"
      ],
      "text/plain": [
       "(3, 2)"
      ]
     },
     "metadata": {},
     "output_type": "display_data"
    },
    {
     "name": "stdout",
     "output_type": "stream",
     "text": [
      "G = \n"
     ]
    },
    {
     "data": {
      "image/png": "[encoded data removed]",
      "text/latex": [
       "$\\displaystyle \\left[\\begin{matrix}1 & 0 & 1\\\\0 & 1 & 1\\end{matrix}\\right]$"
      ],
      "text/plain": [
       "⎡1  0  1⎤\n",
       "⎢       ⎥\n",
       "⎣0  1  1⎦"
      ]
     },
     "metadata": {},
     "output_type": "display_data"
    }
   ],
   "source": [
    "spc32 = komm.SingleParityCheckCode(3)\n",
    "(n, k) = (spc32.length, spc32.dimension)\n",
    "G = spc32.generator_matrix\n",
    "\n",
    "print(\"(n,k) = \")\n",
    "display((n,k))\n",
    "\n",
    "print(\"G = \")\n",
    "display(Matrix(G))"
   ]
  },
  {
   "cell_type": "code",
   "execution_count": 5,
   "metadata": {},
   "outputs": [
    {
     "name": "stdout",
     "output_type": "stream",
     "text": [
      "(n, k) =\n"
     ]
    },
    {
     "data": {
      "image/png": "[encoded data removed]",
      "text/latex": [
       "$\\displaystyle \\left( 7, \\  4\\right)$"
      ],
      "text/plain": [
       "(7, 4)"
      ]
     },
     "metadata": {},
     "output_type": "display_data"
    },
    {
     "name": "stdout",
     "output_type": "stream",
     "text": [
      "G =\n"
     ]
    },
    {
     "data": {
      "image/png": "[encoded data removed]",
      "text/latex": [
       "$\\displaystyle \\left[\\begin{matrix}1 & 0 & 0 & 0 & 1 & 1 & 0\\\\0 & 1 & 0 & 0 & 1 & 0 & 1\\\\0 & 0 & 1 & 0 & 0 & 1 & 1\\\\0 & 0 & 0 & 1 & 1 & 1 & 1\\end{matrix}\\right]$"
      ],
      "text/plain": [
       "⎡1  0  0  0  1  1  0⎤\n",
       "⎢                   ⎥\n",
       "⎢0  1  0  0  1  0  1⎥\n",
       "⎢                   ⎥\n",
       "⎢0  0  1  0  0  1  1⎥\n",
       "⎢                   ⎥\n",
       "⎣0  0  0  1  1  1  1⎦"
      ]
     },
     "metadata": {},
     "output_type": "display_data"
    },
    {
     "name": "stdout",
     "output_type": "stream",
     "text": [
      "Mensagem:\n"
     ]
    },
    {
     "data": {
      "image/png": "[encoded data removed]",
      "text/latex": [
       "$\\displaystyle \\left[\\begin{matrix}1 & 0 & 1 & 1\\end{matrix}\\right]$"
      ],
      "text/plain": [
       "[1  0  1  1]"
      ]
     },
     "metadata": {},
     "output_type": "display_data"
    },
    {
     "name": "stdout",
     "output_type": "stream",
     "text": [
      "Palavra-código:\n"
     ]
    },
    {
     "data": {
      "image/png": "[encoded data removed]",
      "text/latex": [
       "$\\displaystyle \\left[\\begin{matrix}1 & 0 & 1 & 1 & 0 & 1 & 0\\end{matrix}\\right]$"
      ],
      "text/plain": [
       "[1  0  1  1  0  1  0]"
      ]
     },
     "metadata": {},
     "output_type": "display_data"
    }
   ],
   "source": [
    "hamm1511 = komm.HammingCode(3)\n",
    "(n, k) = (hamm1511.length, hamm1511.dimension)\n",
    "G = hamm1511.generator_matrix\n",
    "\n",
    "print(\"(n, k) =\")\n",
    "display((n,k))\n",
    "\n",
    "print(\"G =\")\n",
    "display(Matrix(G))\n",
    "\n",
    "u = np.array([1, 0, 1, 1])\n",
    "print(\"Mensagem:\")\n",
    "display(Matrix(u).T)\n",
    "\n",
    "v = (u @ G) % 2\n",
    "print(\"Palavra-código:\")\n",
    "display(Matrix(v).T)"
   ]
  },
  {
   "cell_type": "code",
   "execution_count": 10,
   "metadata": {},
   "outputs": [
    {
     "name": "stdout",
     "output_type": "stream",
     "text": [
      "(n, k) =\n"
     ]
    },
    {
     "data": {
      "image/png": "[encoded data removed]",
      "text/latex": [
       "$\\displaystyle \\left( 23, \\  12\\right)$"
      ],
      "text/plain": [
       "(23, 12)"
      ]
     },
     "metadata": {},
     "output_type": "display_data"
    },
    {
     "name": "stdout",
     "output_type": "stream",
     "text": [
      "G =\n"
     ]
    },
    {
     "data": {
      "image/png": "[encoded data removed]",
      "text/latex": [
       "$\\displaystyle \\left[\\begin{array}{ccccccccccccccccccccccc}1 & 0 & 0 & 0 & 0 & 0 & 0 & 0 & 0 & 0 & 0 & 0 & 1 & 1 & 1 & 1 & 1 & 1 & 1 & 1 & 1 & 1 & 0\\\\0 & 1 & 0 & 0 & 0 & 0 & 0 & 0 & 0 & 0 & 0 & 0 & 0 & 0 & 0 & 0 & 1 & 1 & 1 & 1 & 1 & 1 & 1\\\\0 & 0 & 1 & 0 & 0 & 0 & 0 & 0 & 0 & 0 & 0 & 0 & 0 & 1 & 1 & 1 & 0 & 0 & 0 & 1 & 1 & 1 & 1\\\\0 & 0 & 0 & 1 & 0 & 0 & 0 & 0 & 0 & 0 & 0 & 0 & 1 & 0 & 1 & 1 & 0 & 1 & 1 & 0 & 0 & 1 & 1\\\\0 & 0 & 0 & 0 & 1 & 0 & 0 & 0 & 0 & 0 & 0 & 0 & 1 & 1 & 0 & 1 & 1 & 0 & 1 & 0 & 1 & 0 & 1\\\\0 & 0 & 0 & 0 & 0 & 1 & 0 & 0 & 0 & 0 & 0 & 0 & 1 & 1 & 1 & 0 & 1 & 1 & 0 & 1 & 0 & 0 & 1\\\\0 & 0 & 0 & 0 & 0 & 0 & 1 & 0 & 0 & 0 & 0 & 0 & 0 & 0 & 1 & 1 & 1 & 1 & 0 & 0 & 1 & 0 & 1\\\\0 & 0 & 0 & 0 & 0 & 0 & 0 & 1 & 0 & 0 & 0 & 0 & 0 & 1 & 0 & 1 & 0 & 1 & 1 & 1 & 0 & 0 & 1\\\\0 & 0 & 0 & 0 & 0 & 0 & 0 & 0 & 1 & 0 & 0 & 0 & 0 & 1 & 1 & 0 & 1 & 0 & 1 & 0 & 0 & 1 & 1\\\\0 & 0 & 0 & 0 & 0 & 0 & 0 & 0 & 0 & 1 & 0 & 0 & 1 & 0 & 0 & 1 & 1 & 0 & 0 & 1 & 0 & 1 & 1\\\\0 & 0 & 0 & 0 & 0 & 0 & 0 & 0 & 0 & 0 & 1 & 0 & 1 & 0 & 1 & 0 & 0 & 0 & 1 & 1 & 1 & 0 & 1\\\\0 & 0 & 0 & 0 & 0 & 0 & 0 & 0 & 0 & 0 & 0 & 1 & 1 & 1 & 0 & 0 & 0 & 1 & 0 & 0 & 1 & 1 & 1\\end{array}\\right]$"
      ],
      "text/plain": [
       "⎡1  0  0  0  0  0  0  0  0  0  0  0  1  1  1  1  1  1  1  1  1  1  0⎤\n",
       "⎢                                                                   ⎥\n",
       "⎢0  1  0  0  0  0  0  0  0  0  0  0  0  0  0  0  1  1  1  1  1  1  1⎥\n",
       "⎢                                                                   ⎥\n",
       "⎢0  0  1  0  0  0  0  0  0  0  0  0  0  1  1  1  0  0  0  1  1  1  1⎥\n",
       "⎢                                                                   ⎥\n",
       "⎢0  0  0  1  0  0  0  0  0  0  0  0  1  0  1  1  0  1  1  0  0  1  1⎥\n",
       "⎢                                                                   ⎥\n",
       "⎢0  0  0  0  1  0  0  0  0  0  0  0  1  1  0  1  1  0  1  0  1  0  1⎥\n",
       "⎢                                                                   ⎥\n",
       "⎢0  0  0  0  0  1  0  0  0  0  0  0  1  1  1  0  1  1  0  1  0  0  1⎥\n",
       "⎢                                                                   ⎥\n",
       "⎢0  0  0  0  0  0  1  0  0  0  0  0  0  0  1  1  1  1  0  0  1  0  1⎥\n",
       "⎢                                                                   ⎥\n",
       "⎢0  0  0  0  0  0  0  1  0  0  0  0  0  1  0  1  0  1  1  1  0  0  1⎥\n",
       "⎢                                                                   ⎥\n",
       "⎢0  0  0  0  0  0  0  0  1  0  0  0  0  1  1  0  1  0  1  0  0  1  1⎥\n",
       "⎢                                                                   ⎥\n",
       "⎢0  0  0  0  0  0  0  0  0  1  0  0  1  0  0  1  1  0  0  1  0  1  1⎥\n",
       "⎢                                                                   ⎥\n",
       "⎢0  0  0  0  0  0  0  0  0  0  1  0  1  0  1  0  0  0  1  1  1  0  1⎥\n",
       "⎢                                                                   ⎥\n",
       "⎣0  0  0  0  0  0  0  0  0  0  0  1  1  1  0  0  0  1  0  0  1  1  1⎦"
      ]
     },
     "metadata": {},
     "output_type": "display_data"
    },
    {
     "name": "stdout",
     "output_type": "stream",
     "text": [
      "Mensagem:\n"
     ]
    },
    {
     "data": {
      "image/png": "[encoded data removed]",
      "text/latex": [
       "$\\displaystyle \\left[\\begin{array}{cccccccccccc}1 & 0 & 1 & 1 & 0 & 1 & 0 & 1 & 1 & 1 & 0 & 0\\end{array}\\right]$"
      ],
      "text/plain": [
       "[1  0  1  1  0  1  0  1  1  1  0  0]"
      ]
     },
     "metadata": {},
     "output_type": "display_data"
    },
    {
     "name": "stdout",
     "output_type": "stream",
     "text": [
      "Palavra-código:\n"
     ]
    },
    {
     "data": {
      "image/png": "[encoded data removed]",
      "text/latex": [
       "$\\displaystyle \\left[\\begin{array}{ccccccccccccccccccccccc}1 & 0 & 1 & 1 & 0 & 1 & 0 & 1 & 1 & 1 & 0 & 0 & 0 & 1 & 1 & 1 & 0 & 0 & 0 & 1 & 0 & 1 & 0\\end{array}\\right]$"
      ],
      "text/plain": [
       "[1  0  1  1  0  1  0  1  1  1  0  0  0  1  1  1  0  0  0  1  0  1  0]"
      ]
     },
     "metadata": {},
     "output_type": "display_data"
    },
    {
     "name": "stdout",
     "output_type": "stream",
     "text": [
      "Distribuição de pesos:\n"
     ]
    },
    {
     "data": {
      "image/png": "[encoded data removed]",
      "text/latex": [
       "$\\displaystyle \\left[\\begin{array}{cccccccccccccccccccccccc}1 & 0 & 0 & 0 & 0 & 0 & 0 & 253 & 506 & 0 & 0 & 1288 & 1288 & 0 & 0 & 506 & 253 & 0 & 0 & 0 & 0 & 0 & 0 & 1\\end{array}\\right]$"
      ],
      "text/plain": [
       "[1  0  0  0  0  0  0  253  506  0  0  1288  1288  0  0  506  253  0  0  0  0   ↪\n",
       "\n",
       "↪ 0  0  1]"
      ]
     },
     "metadata": {},
     "output_type": "display_data"
    }
   ],
   "source": [
    "golay = komm.GolayCode()\n",
    "(n, k) = (golay.length, golay.dimension)\n",
    "G = golay.generator_matrix\n",
    "\n",
    "print(\"(n, k) =\")\n",
    "display((n,k))  \n",
    "\n",
    "print(\"G =\")\n",
    "display(Matrix(G))\n",
    "\n",
    "u = np.array([1, 0, 1, 1, 0, 1, 0, 1,1,1,0,0])\n",
    "print(\"Mensagem:\")\n",
    "display(Matrix(u).T)\n",
    "\n",
    "v = (u @ G) % 2\n",
    "print(\"Palavra-código:\")\n",
    "display(Matrix(v).T)\n",
    "\n",
    "weight_distribution = golay.codeword_weight_distribution\n",
    "print(\"Distribuição de pesos:\")\n",
    "display(Matrix(weight_distribution).T)"
   ]
  },
  {
   "cell_type": "code",
   "execution_count": 15,
   "metadata": {},
   "outputs": [
    {
     "name": "stdout",
     "output_type": "stream",
     "text": [
      "(n, k) =\n"
     ]
    },
    {
     "data": {
      "image/png": "[encoded data removed]",
      "text/latex": [
       "$\\displaystyle \\left( 15, \\  11\\right)$"
      ],
      "text/plain": [
       "(15, 11)"
      ]
     },
     "metadata": {},
     "output_type": "display_data"
    },
    {
     "name": "stdout",
     "output_type": "stream",
     "text": [
      "G =\n"
     ]
    },
    {
     "data": {
      "image/png": "[encoded data removed]",
      "text/latex": [
       "$\\displaystyle \\left[\\begin{array}{ccccccccccccccc}1 & 0 & 0 & 0 & 0 & 0 & 0 & 0 & 0 & 0 & 0 & 1 & 1 & 0 & 0\\\\0 & 1 & 0 & 0 & 0 & 0 & 0 & 0 & 0 & 0 & 0 & 1 & 0 & 1 & 0\\\\0 & 0 & 1 & 0 & 0 & 0 & 0 & 0 & 0 & 0 & 0 & 1 & 0 & 0 & 1\\\\0 & 0 & 0 & 1 & 0 & 0 & 0 & 0 & 0 & 0 & 0 & 0 & 1 & 1 & 0\\\\0 & 0 & 0 & 0 & 1 & 0 & 0 & 0 & 0 & 0 & 0 & 0 & 1 & 0 & 1\\\\0 & 0 & 0 & 0 & 0 & 1 & 0 & 0 & 0 & 0 & 0 & 0 & 0 & 1 & 1\\\\0 & 0 & 0 & 0 & 0 & 0 & 1 & 0 & 0 & 0 & 0 & 1 & 1 & 1 & 0\\\\0 & 0 & 0 & 0 & 0 & 0 & 0 & 1 & 0 & 0 & 0 & 1 & 1 & 0 & 1\\\\0 & 0 & 0 & 0 & 0 & 0 & 0 & 0 & 1 & 0 & 0 & 1 & 0 & 1 & 1\\\\0 & 0 & 0 & 0 & 0 & 0 & 0 & 0 & 0 & 1 & 0 & 0 & 1 & 1 & 1\\\\0 & 0 & 0 & 0 & 0 & 0 & 0 & 0 & 0 & 0 & 1 & 1 & 1 & 1 & 1\\end{array}\\right]$"
      ],
      "text/plain": [
       "⎡1  0  0  0  0  0  0  0  0  0  0  1  1  0  0⎤\n",
       "⎢                                           ⎥\n",
       "⎢0  1  0  0  0  0  0  0  0  0  0  1  0  1  0⎥\n",
       "⎢                                           ⎥\n",
       "⎢0  0  1  0  0  0  0  0  0  0  0  1  0  0  1⎥\n",
       "⎢                                           ⎥\n",
       "⎢0  0  0  1  0  0  0  0  0  0  0  0  1  1  0⎥\n",
       "⎢                                           ⎥\n",
       "⎢0  0  0  0  1  0  0  0  0  0  0  0  1  0  1⎥\n",
       "⎢                                           ⎥\n",
       "⎢0  0  0  0  0  1  0  0  0  0  0  0  0  1  1⎥\n",
       "⎢                                           ⎥\n",
       "⎢0  0  0  0  0  0  1  0  0  0  0  1  1  1  0⎥\n",
       "⎢                                           ⎥\n",
       "⎢0  0  0  0  0  0  0  1  0  0  0  1  1  0  1⎥\n",
       "⎢                                           ⎥\n",
       "⎢0  0  0  0  0  0  0  0  1  0  0  1  0  1  1⎥\n",
       "⎢                                           ⎥\n",
       "⎢0  0  0  0  0  0  0  0  0  1  0  0  1  1  1⎥\n",
       "⎢                                           ⎥\n",
       "⎣0  0  0  0  0  0  0  0  0  0  1  1  1  1  1⎦"
      ]
     },
     "metadata": {},
     "output_type": "display_data"
    },
    {
     "name": "stdout",
     "output_type": "stream",
     "text": [
      "Mensagem:\n"
     ]
    },
    {
     "data": {
      "image/png": "[encoded data removed]",
      "text/latex": [
       "$\\displaystyle \\left[\\begin{array}{ccccccccccc}1 & 0 & 1 & 1 & 1 & 1 & 1 & 1 & 0 & 1 & 1\\end{array}\\right]$"
      ],
      "text/plain": [
       "[1  0  1  1  1  1  1  1  0  1  1]"
      ]
     },
     "metadata": {},
     "output_type": "display_data"
    },
    {
     "name": "stdout",
     "output_type": "stream",
     "text": [
      "Palavra-código:\n"
     ]
    },
    {
     "data": {
      "image/png": "[encoded data removed]",
      "text/latex": [
       "$\\displaystyle \\left[\\begin{array}{ccccccccccccccc}1 & 0 & 1 & 1 & 1 & 1 & 1 & 1 & 0 & 1 & 1 & 1 & 1 & 1 & 0\\end{array}\\right]$"
      ],
      "text/plain": [
       "[1  0  1  1  1  1  1  1  0  1  1  1  1  1  0]"
      ]
     },
     "metadata": {},
     "output_type": "display_data"
    },
    {
     "name": "stdout",
     "output_type": "stream",
     "text": [
      "Distribuição de pesos:\n"
     ]
    },
    {
     "data": {
      "image/png": "[encoded data removed]",
      "text/latex": [
       "$\\displaystyle \\left[\\begin{array}{cccccccccccccccc}1 & 0 & 0 & 35 & 105 & 168 & 280 & 435 & 435 & 280 & 168 & 105 & 35 & 0 & 0 & 1\\end{array}\\right]$"
      ],
      "text/plain": [
       "[1  0  0  35  105  168  280  435  435  280  168  105  35  0  0  1]"
      ]
     },
     "metadata": {},
     "output_type": "display_data"
    }
   ],
   "source": [
    "hamm1511 = komm.HammingCode(4)\n",
    "(n, k) = (hamm1511.length, hamm1511.dimension)\n",
    "G = hamm1511.generator_matrix\n",
    "\n",
    "print(\"(n, k) =\")\n",
    "display((n,k))\n",
    "\n",
    "print(\"G =\")\n",
    "display(Matrix(G))\n",
    "\n",
    "u = np.array([1, 0, 1, 1, 1, 1, 1,1, 0, 1, 1,])\n",
    "print(\"Mensagem:\")\n",
    "display(Matrix(u).T)\n",
    "\n",
    "v = (u @ G) % 2\n",
    "print(\"Palavra-código:\")\n",
    "display(Matrix(v).T)\n",
    "\n",
    "weight_distribution = hamm1511.codeword_weight_distribution\n",
    "print(\"Distribuição de pesos:\")\n",
    "display(Matrix(weight_distribution).T)"
   ]
  }
 ],
 "metadata": {
  "kernelspec": {
   "display_name": ".venv",
   "language": "python",
   "name": "python3"
  },
  "language_info": {
   "codemirror_mode": {
    "name": "ipython",
    "version": 3
   },
   "file_extension": ".py",
   "mimetype": "text/x-python",
   "name": "python",
   "nbconvert_exporter": "python",
   "pygments_lexer": "ipython3",
   "version": "3.12.2"
  }
 },
 "nbformat": 4,
 "nbformat_minor": 2
}
