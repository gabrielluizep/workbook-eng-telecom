{
 "cells": [
  {
   "cell_type": "code",
   "execution_count": 12,
   "metadata": {},
   "outputs": [],
   "source": [
    "import pandas as pd\n",
    "import numpy as np"
   ]
  },
  {
   "cell_type": "code",
   "execution_count": 13,
   "metadata": {},
   "outputs": [
    {
     "data": {
      "text/plain": [
       "0.855"
      ]
     },
     "metadata": {},
     "output_type": "display_data"
    },
    {
     "data": {
      "text/plain": [
       "0.095"
      ]
     },
     "metadata": {},
     "output_type": "display_data"
    },
    {
     "data": {
      "text/plain": [
       "0.285"
      ]
     },
     "metadata": {},
     "output_type": "display_data"
    },
    {
     "data": {
      "text/plain": [
       "0.665"
      ]
     },
     "metadata": {},
     "output_type": "display_data"
    },
    {
     "data": {
      "text/plain": [
       "0.05"
      ]
     },
     "metadata": {},
     "output_type": "display_data"
    },
    {
     "data": {
      "text/plain": [
       "0.05"
      ]
     },
     "metadata": {},
     "output_type": "display_data"
    }
   ],
   "source": [
    "px0 = 0.65\n",
    "px1 = 0.35\n",
    "\n",
    "q = 0.05\n",
    "p_1 = 0.25\n",
    "p_2 = 0.1\n",
    "\n",
    "y0_x0 = 1 * (1 - q) * (1 - p_2)\n",
    "y1_x0 = 1 * (1 - q) * p_2\n",
    "\n",
    "y0_x1 = (p_1 * (1 - q) * (1 - p_2)) + ((1 - p_1) * (1 - q) * p_2)\n",
    "y1_x1 = ((1 - p_1) * (1 - q) * (1 - p_2)) + (p_1 * (1 - q) * p_2)\n",
    "\n",
    "ye_x0 = 1 * q\n",
    "ye_x1 = ((1 - p_1) * q) + (p_1 * q)\n",
    "\n",
    "display(y0_x0, y1_x0, y0_x1, y1_x1, ye_x0, ye_x1)"
   ]
  },
  {
   "cell_type": "code",
   "execution_count": 14,
   "metadata": {},
   "outputs": [
    {
     "data": {
      "text/plain": [
       "np.float64(1.855566082410887)"
      ]
     },
     "execution_count": 14,
     "metadata": {},
     "output_type": "execute_result"
    }
   ],
   "source": [
    "arr = [y0_x0, y1_x0, y0_x1, y1_x1, ye_x0, ye_x1]\n",
    "\n",
    "Hyx = 0\n",
    "for i in range(len(arr)):\n",
    "    Hyx += arr[i] * np.log2(1 / arr[i])\n",
    "\n",
    "Hyx"
   ]
  },
  {
   "cell_type": "code",
   "execution_count": 20,
   "metadata": {},
   "outputs": [
    {
     "data": {
      "text/plain": [
       "np.float64(0.934068055375491)"
      ]
     },
     "execution_count": 20,
     "metadata": {},
     "output_type": "execute_result"
    }
   ],
   "source": [
    "Hx = px0 * np.log2(1 / px0) + px1 * np.log2(1 / px1)\n",
    "Hx"
   ]
  },
  {
   "cell_type": "code",
   "execution_count": 21,
   "metadata": {},
   "outputs": [
    {
     "data": {
      "text/plain": [
       "np.float64(1.13491174257492)"
      ]
     },
     "execution_count": 21,
     "metadata": {},
     "output_type": "execute_result"
    }
   ],
   "source": [
    "py0 = px0 * y0_x0 + px1 * y0_x1\n",
    "py1 = px0 * y1_x0 + px1 * y1_x1\n",
    "pye = px0 * ye_x0 + px1 * ye_x1\n",
    "\n",
    "Hy = py0 * np.log2(1 / py0) + py1 * np.log2(1 / py1) + pye * np.log2(1 / pye)\n",
    "Hy"
   ]
  },
  {
   "cell_type": "code",
   "execution_count": 44,
   "metadata": {},
   "outputs": [
    {
     "data": {
      "text/plain": [
       "np.float64(0.7319427710257733)"
      ]
     },
     "execution_count": 44,
     "metadata": {},
     "output_type": "execute_result"
    }
   ],
   "source": [
    "Hyx0 = (\n",
    "    y0_x0 * np.log2(1 / y0_x0) + y1_x0 * np.log2(1 / y1_x0) + ye_x0 * np.log2(1 / ye_x0)\n",
    ")\n",
    "Hyx0"
   ]
  },
  {
   "cell_type": "code",
   "execution_count": 45,
   "metadata": {},
   "outputs": [
    {
     "data": {
      "text/plain": [
       "np.float64(1.123623311385114)"
      ]
     },
     "execution_count": 45,
     "metadata": {},
     "output_type": "execute_result"
    }
   ],
   "source": [
    "Hyx1 = (\n",
    "    y0_x1 * np.log2(1 / y0_x1) + y1_x1 * np.log2(1 / y1_x1) + ye_x1 * np.log2(1 / ye_x1)\n",
    ")\n",
    "Hyx1"
   ]
  },
  {
   "cell_type": "code",
   "execution_count": 46,
   "metadata": {},
   "outputs": [
    {
     "data": {
      "text/plain": [
       "np.float64(0.8690309601515425)"
      ]
     },
     "execution_count": 46,
     "metadata": {},
     "output_type": "execute_result"
    }
   ],
   "source": [
    "Hyx = px0 * Hyx0 + px1 * Hyx1\n",
    "Hyx"
   ]
  },
  {
   "cell_type": "code",
   "execution_count": 50,
   "metadata": {},
   "outputs": [
    {
     "data": {
      "text/plain": [
       "np.float64(0.26588078242337754)"
      ]
     },
     "execution_count": 50,
     "metadata": {},
     "output_type": "execute_result"
    }
   ],
   "source": [
    "Iyx = Hy - Hyx\n",
    "Iyx"
   ]
  }
 ],
 "metadata": {
  "kernelspec": {
   "display_name": ".venv",
   "language": "python",
   "name": "python3"
  },
  "language_info": {
   "codemirror_mode": {
    "name": "ipython",
    "version": 3
   },
   "file_extension": ".py",
   "mimetype": "text/x-python",
   "name": "python",
   "nbconvert_exporter": "python",
   "pygments_lexer": "ipython3",
   "version": "3.12.2"
  }
 },
 "nbformat": 4,
 "nbformat_minor": 2
}
