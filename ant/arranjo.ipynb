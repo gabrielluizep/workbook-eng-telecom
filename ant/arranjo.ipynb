{
 "cells": [
  {
   "cell_type": "code",
   "execution_count": 23,
   "metadata": {},
   "outputs": [],
   "source": [
    "import numpy as np\n",
    "import pandas as pd\n",
    "\n",
    "f = 400e6\n",
    "c = 300e6\n",
    "lmbda = c / f\n",
    "beta = 2 * np.pi / lmbda\n",
    "d_y = 3 / 4 * lmbda\n",
    "d_x = 1 / 2 * lmbda\n",
    "phi = np.deg2rad(60)\n",
    "theta = np.deg2rad(30)"
   ]
  },
  {
   "cell_type": "code",
   "execution_count": 20,
   "metadata": {},
   "outputs": [],
   "source": [
    "alpha_x = -beta * d_x * np.cos(phi) * np.sin(theta)"
   ]
  },
  {
   "cell_type": "code",
   "execution_count": 21,
   "metadata": {},
   "outputs": [],
   "source": [
    "alpha_y = -beta * d_y * np.sin(phi) * np.sin(theta)"
   ]
  },
  {
   "cell_type": "code",
   "execution_count": 22,
   "metadata": {},
   "outputs": [
    {
     "name": "stdout",
     "output_type": "stream",
     "text": [
      "01 0\n",
      "02 -45.00000000000001\n",
      "11 -116.91342951089919\n",
      "12 -161.9134295108992\n"
     ]
    }
   ],
   "source": [
    "print(\"01\", 0)\n",
    "print(\"02\", np.rad2deg(alpha_x))\n",
    "print(\"11\", np.rad2deg(alpha_y))\n",
    "print(\"12\", np.rad2deg(alpha_x + alpha_y))"
   ]
  }
 ],
 "metadata": {
  "kernelspec": {
   "display_name": "eng",
   "language": "python",
   "name": "python3"
  },
  "language_info": {
   "codemirror_mode": {
    "name": "ipython",
    "version": 3
   },
   "file_extension": ".py",
   "mimetype": "text/x-python",
   "name": "python",
   "nbconvert_exporter": "python",
   "pygments_lexer": "ipython3",
   "version": "3.12.2"
  }
 },
 "nbformat": 4,
 "nbformat_minor": 2
}
