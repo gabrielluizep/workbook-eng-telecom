{
 "cells": [
  {
   "cell_type": "code",
   "execution_count": 11,
   "metadata": {},
   "outputs": [],
   "source": [
    "import numpy as np\n",
    "\n",
    "f = 400e6\n",
    "c = 300e6\n",
    "lmbda = c / f\n",
    "beta = 2 * np.pi / lmbda\n",
    "d_y = 3 / 4 * lmbda\n",
    "d_x = 1 / 2 * lmbda\n",
    "phi = np.deg2rad(70)\n",
    "theta = np.deg2rad(30)"
   ]
  },
  {
   "cell_type": "code",
   "execution_count": 12,
   "metadata": {},
   "outputs": [
    {
     "data": {
      "text/plain": [
       "np.float64(-30.78181289931019)"
      ]
     },
     "execution_count": 12,
     "metadata": {},
     "output_type": "execute_result"
    }
   ],
   "source": [
    "alpha_x = -beta * d_x * np.cos(phi) * np.sin(theta)\n",
    "np.rad2deg(alpha_x)"
   ]
  },
  {
   "cell_type": "code",
   "execution_count": 14,
   "metadata": {},
   "outputs": [
    {
     "data": {
      "text/plain": [
       "np.float64(-126.8585038060976)"
      ]
     },
     "execution_count": 14,
     "metadata": {},
     "output_type": "execute_result"
    }
   ],
   "source": [
    "alpha_y = -beta * d_y * np.sin(phi) * np.sin(theta)\n",
    "np.rad2deg(alpha_y)"
   ]
  }
 ],
 "metadata": {
  "kernelspec": {
   "display_name": "eng",
   "language": "python",
   "name": "python3"
  },
  "language_info": {
   "codemirror_mode": {
    "name": "ipython",
    "version": 3
   },
   "file_extension": ".py",
   "mimetype": "text/x-python",
   "name": "python",
   "nbconvert_exporter": "python",
   "pygments_lexer": "ipython3",
   "version": "3.12.2"
  }
 },
 "nbformat": 4,
 "nbformat_minor": 2
}
