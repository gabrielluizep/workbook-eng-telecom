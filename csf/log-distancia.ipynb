{
 "cells": [
  {
   "cell_type": "code",
   "execution_count": null,
   "metadata": {},
   "outputs": [],
   "source": [
    "b = pd.DataFrame({\"d (m)\": [2,3,5,7,9,11,13,15,17], \"RSSI (dBm)\": [-52,-55,-56,-67,-66,-78]})"
   ]
  },
  {
   "cell_type": "code",
   "execution_count": 56,
   "metadata": {},
   "outputs": [
    {
     "data": {
      "text/latex": [
       "$\\displaystyle 484 \\left(\\frac{0.315066900254521 n}{\\log{\\left(10 \\right)}} - 1\\right)^{2} + 5625 \\left(\\frac{0.453492984221621 n}{\\log{\\left(10 \\right)}} - 1\\right)^{2} + 1444 \\left(\\frac{0.605943445524749 n}{\\log{\\left(10 \\right)}} - 1\\right)^{2}$"
      ],
      "text/plain": [
       "484*(0.315066900254521*n/log(10) - 1)**2 + 5625*(0.453492984221621*n/log(10) - 1)**2 + 1444*(0.605943445524749*n/log(10) - 1)**2"
      ]
     },
     "metadata": {},
     "output_type": "display_data"
    },
    {
     "data": {
      "text/latex": [
       "$\\displaystyle \\frac{3470.09895068442 n}{\\log{\\left(10 \\right)}^{2}} - \\frac{7156.74550261508}{\\log{\\left(10 \\right)}}$"
      ],
      "text/plain": [
       "3470.09895068442*n/log(10)**2 - 7156.74550261508/log(10)"
      ]
     },
     "metadata": {},
     "output_type": "display_data"
    },
    {
     "data": {
      "text/latex": [
       "$\\displaystyle n = 4.74886040509694$"
      ],
      "text/plain": [
       "Eq(n, 4.74886040509694)"
      ]
     },
     "metadata": {},
     "output_type": "display_data"
    }
   ],
   "source": [
    "import sympy as sp\n",
    "import numpy as np\n",
    "\n",
    "a = pd.DataFrame({\"d_0 (m)\":[100,200,1000,3000], \"RSSI (dBm)\": [0,-22,-38,-75]})\n",
    "\n",
    "n = sp.symbols('n')\n",
    "\n",
    "a[\"f(n) (100m)\"] = a[\"d_0 (m)\"].apply(lambda d: -10 * n * sp.log(d / 100, 10))\n",
    "\n",
    "a[\"(P_i-E_i)^2\"] = a.apply(\n",
    "    lambda row: sp.Pow((row[\"RSSI (dBm)\"] - row[\"f(n) (100m)\"]), 2),\n",
    "    axis=1,\n",
    ")\n",
    "\n",
    "res = a[\"(P_i-E_i)^2\"].sum()\n",
    "display(res)\n",
    "\n",
    "res = sp.Derivative(res).simplify()\n",
    "display(res)\n",
    "\n",
    "res = sp.Eq(res, 0).simplify()\n",
    "display(res)"
   ]
  }
 ],
 "metadata": {
  "kernelspec": {
   "display_name": ".venv",
   "language": "python",
   "name": "python3"
  },
  "language_info": {
   "codemirror_mode": {
    "name": "ipython",
    "version": 3
   },
   "file_extension": ".py",
   "mimetype": "text/x-python",
   "name": "python",
   "nbconvert_exporter": "python",
   "pygments_lexer": "ipython3",
   "version": "3.12.2"
  }
 },
 "nbformat": 4,
 "nbformat_minor": 2
}
